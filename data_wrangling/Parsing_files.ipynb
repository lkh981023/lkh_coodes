{
 "cells": [
  {
   "cell_type": "markdown",
   "metadata": {
    "id": "QCbAmQ47iqK4"
   },
   "source": [
    "<div class=\"alert alert-block alert-success\">\n",
    "    \n",
    "# FIT5196 Task 1 in Assessment 1\n",
    "#### Student Name: Kehan Liu\n",
    "#### Student ID: 32281943\n",
    "\n",
    "Date: 20/08/2022\n",
    "\n",
    "\n",
    "Environment: Python 3.9.7\n",
    "\n",
    "Libraries used:\n",
    "* os (for interacting with the operating system, included in Python 3.9.7 package) \n",
    "* re (for regular expression, installed and imported) \n",
    "* pandas (for data manipulation) \n",
    "    \n",
    "</div>"
   ]
  },
  {
   "cell_type": "markdown",
   "metadata": {
    "id": "IjBFqYK4iqK5"
   },
   "source": [
    "<div class=\"alert alert-block alert-danger\">\n",
    "    \n",
    "## Table of Contents\n",
    "\n",
    "</div>    \n",
    "\n",
    "[1. Introduction](#Intro) <br>\n",
    "[2. Importing Libraries](#libs) <br>\n",
    "[3. Examining Review Files](#examine) <br>\n",
    "[4. Loading and Parsing Files](#load) <br>\n",
    "$\\;\\;\\;\\;$[4.1. Defining Regular Expressions](#Reg_Exp) <br>\n",
    "$\\;\\;\\;\\;$[4.2. Reading Files](#Read) <br>\n",
    "$\\;\\;\\;\\;$[4.3. Convert the extracted data to Dataframe](#latin) <br>\n",
    "[5. Writing to an CSV File](#write) <br>\n",
    "$\\;\\;\\;\\;$[5.1. Verification - using the sample files](#test_xml) <br>\n",
    "[6. Summary](#summary) <br>\n",
    "[7. References](#Ref) <br>"
   ]
  },
  {
   "cell_type": "markdown",
   "metadata": {
    "id": "AcbqK3KliqK6"
   },
   "source": [
    "-------------------------------------"
   ]
  },
  {
   "cell_type": "markdown",
   "metadata": {
    "id": "pEFdSCIUiqK6"
   },
   "source": [
    "<div class=\"alert alert-block alert-warning\">\n",
    "\n",
    "## 1.  Introduction  <a class=\"anchor\" name=\"Intro\"></a>\n",
    "    \n",
    "</div>"
   ]
  },
  {
   "cell_type": "markdown",
   "metadata": {
    "id": "cGg4-8VSiqK6"
   },
   "source": [
    "This assessment regards extracting data from semi-sctuctured text files. The dataset contained 500 `.txt` files which included various information about user reviews. In particular, the content of txt file is html structure."
   ]
  },
  {
   "cell_type": "markdown",
   "metadata": {
    "id": "p6Ql-W6BiqK7"
   },
   "source": [
    "-------------------------------------"
   ]
  },
  {
   "cell_type": "markdown",
   "metadata": {
    "id": "hnctlBF6iqK7"
   },
   "source": [
    "<div class=\"alert alert-block alert-warning\">\n",
    "    \n",
    "## 2.  Importing Libraries  <a class=\"anchor\" name=\"libs\"></a>\n",
    " </div>"
   ]
  },
  {
   "cell_type": "markdown",
   "metadata": {
    "id": "dQOLlwmAiqK7"
   },
   "source": [
    "The only permitted packages to be used in this assessment are imported in the following. They are used to fulfill the following tasks:\n",
    "\n",
    "* **os:** to interact with the operating system, e.g. navigate through folders\n",
    "* **re:** to define and use regular expressions\n",
    "* **pandas:** to generate the extracted data and covert them into the csv file"
   ]
  },
  {
   "cell_type": "code",
   "execution_count": 2,
   "metadata": {
    "id": "mKGO6FAXiqK7"
   },
   "outputs": [],
   "source": [
    "import os\n",
    "import re\n",
    "import pandas as pd"
   ]
  },
  {
   "cell_type": "markdown",
   "metadata": {
    "id": "3DEWD9qIiqK8"
   },
   "source": [
    "-------------------------------------"
   ]
  },
  {
   "cell_type": "markdown",
   "metadata": {
    "collapsed": true,
    "id": "Z814ttFYiqK8"
   },
   "source": [
    "<div class=\"alert alert-block alert-warning\">\n",
    "\n",
    "## 3.  Examining Review Files <a class=\"anchor\" name=\"examine\"></a>\n",
    "\n",
    " </div>"
   ]
  },
  {
   "cell_type": "markdown",
   "metadata": {
    "id": "4YVIqb_miqK8"
   },
   "source": [
    "First of all, using pandas to view the sample output csv file"
   ]
  },
  {
   "cell_type": "code",
   "execution_count": 5,
   "metadata": {},
   "outputs": [
    {
     "data": {
      "text/html": [
       "<div>\n",
       "<style scoped>\n",
       "    .dataframe tbody tr th:only-of-type {\n",
       "        vertical-align: middle;\n",
       "    }\n",
       "\n",
       "    .dataframe tbody tr th {\n",
       "        vertical-align: top;\n",
       "    }\n",
       "\n",
       "    .dataframe thead th {\n",
       "        text-align: right;\n",
       "    }\n",
       "</style>\n",
       "<table border=\"1\" class=\"dataframe\">\n",
       "  <thead>\n",
       "    <tr style=\"text-align: right;\">\n",
       "      <th></th>\n",
       "      <th>PID</th>\n",
       "      <th>product_review</th>\n",
       "      <th>review_summary</th>\n",
       "      <th>latest_review_date</th>\n",
       "    </tr>\n",
       "  </thead>\n",
       "  <tbody>\n",
       "    <tr>\n",
       "      <th>count</th>\n",
       "      <td>15</td>\n",
       "      <td>15</td>\n",
       "      <td>15</td>\n",
       "      <td>15</td>\n",
       "    </tr>\n",
       "    <tr>\n",
       "      <th>unique</th>\n",
       "      <td>15</td>\n",
       "      <td>15</td>\n",
       "      <td>15</td>\n",
       "      <td>15</td>\n",
       "    </tr>\n",
       "    <tr>\n",
       "      <th>top</th>\n",
       "      <td>B000KIQ15U</td>\n",
       "      <td>['This is worth it for the convenience and the...</td>\n",
       "      <td>['OK. Value for money. Nothing spectacular', '...</td>\n",
       "      <td>01/02/2014</td>\n",
       "    </tr>\n",
       "    <tr>\n",
       "      <th>freq</th>\n",
       "      <td>1</td>\n",
       "      <td>1</td>\n",
       "      <td>1</td>\n",
       "      <td>1</td>\n",
       "    </tr>\n",
       "  </tbody>\n",
       "</table>\n",
       "</div>"
      ],
      "text/plain": [
       "               PID                                     product_review  \\\n",
       "count           15                                                 15   \n",
       "unique          15                                                 15   \n",
       "top     B000KIQ15U  ['This is worth it for the convenience and the...   \n",
       "freq             1                                                  1   \n",
       "\n",
       "                                           review_summary latest_review_date  \n",
       "count                                                  15                 15  \n",
       "unique                                                 15                 15  \n",
       "top     ['OK. Value for money. Nothing spectacular', '...         01/02/2014  \n",
       "freq                                                    1                  1  "
      ]
     },
     "execution_count": 5,
     "metadata": {},
     "output_type": "execute_result"
    }
   ],
   "source": [
    "df_sample = pd.read_csv('./sample IO/sample_output_task1.csv')\n",
    "df_sample.describe()"
   ]
  },
  {
   "cell_type": "code",
   "execution_count": 19,
   "metadata": {},
   "outputs": [
    {
     "data": {
      "text/plain": [
       "0     B000KIQ15U\n",
       "1     B001I4HF8W\n",
       "2     B0037NYQ5C\n",
       "3     B0052MNIAA\n",
       "4     B0068Y7HUS\n",
       "5     6304432437\n",
       "6     B00005LMAL\n",
       "7     B00005RDB0\n",
       "8     B00091S6RY\n",
       "9     B00A704PG8\n",
       "10    1577319109\n",
       "11    1600761259\n",
       "12    1601420137\n",
       "13    1612961657\n",
       "14    B00CLUGBXW\n",
       "Name: PID, dtype: object"
      ]
     },
     "execution_count": 19,
     "metadata": {},
     "output_type": "execute_result"
    }
   ],
   "source": [
    "df_sample['PID']"
   ]
  },
  {
   "cell_type": "code",
   "execution_count": 21,
   "metadata": {},
   "outputs": [
    {
     "data": {
      "text/plain": [
       "'[\\'This is worth it for the convenience and the space-saving way it clips underneath the Dell Ultrasharp screen. The sound is clear but lacking in punch in the mid-range and with poor bass response, but that is inevitable for a speaker of this size and weight. Four stars because it is good. Not 5 stars because it is not excellent.\\', \"Just received the sound bar and installation was easy.  It has decent sound for what it is, a small speaker.  If you want great sound, this is wrong product.  I clips right onto the bottom of the monitor (but you better make sure you have the correct Dell monitor for this speaker) so it is office the desktop.I have one question for the designers.  The monitor has 4 powered USB ports.  Why did you design a product that required the AC/DC converter and speaker cable rather than have it plug into the USB port that is 2 inches away?  Also, that blue light did not have to be so bright.  It is dead on center and really annoying.  If you had placed the light 6 inches to the side, the grill would have blocked the direct light.  Just give me the knowledge to know that it is on and don\\'t blind me with the fact.  I am about to go to my workbench for a piece of tape to cover the lightFor these two design annoyances, the product losses 1 star.  However, if you have the right monitor and want to free up deskspace, go for it.\", \\'I got this because it was good price and its works as intended. It has worked flawlessly for years on end.\\', \\'The speaker bar arrived on time as expected and was a reasonable price. Much cheaper than Dell!\\', \\'This sound bar is easy to install, works as advertised and takes up no desk space.The delivery was prompt. The only reason for 4 stars instead of 5 stars is the fidelity. This unit replaced a couple of 4 inch base reflex enclosures. Needless to say they sounded a lot better. They also cluttered up the desk a lot. If you want compact an reasonable sound this item is for you. If your looking for big sound spend a lot of money on something else.\\', \\'Use the sound bar every day looks great, works great and take up no rook on my desk.\\', \"Ordered, but not received.  I have seen this product on monitors in offices and they seem like a great product.  I purchaced a similar product for my wife\\'s monitor to remove the clutter caused by the speakers.  I gave it four stars because I would expect that it is as excellent a product as the one that I purchased from another source.  Hope that helps.\", \\'Put this on a Dell p1911 monitor and it looks and works just fine-  my monitor has a power plug built in for this speaker, so i didnt even need the power supply that came with it- but, nice to have an extra power supply anyway.installing is a matter of \"line it up! click in place!\"  plug power cord into monitor and plug into headphone jack on pc/laptop-  about 1 min total-btw- mine was brand new and still sealed in dell box!  from  Wildcat IT  thx WILDCAT\\', \\'The item works good and got power directly from the monitor.  The item is not new but it is used!  The title is somewhat misleading.\\', \\'Clearly these came from an office where they were used for years and years. they are dented scratched and the cables have been bent considerably. If you have a product that is used SELL IT THAT WAY!\\', \\'just what I needed for a new Dell ultra pc monitor I purchased amazing value for quality of this type of product\\', \\'I have one of these, love it, but this one they sent with no power supply so I had to return.  Useless.\\', \"This is older (Silver)version for the Dell Ultrasharp series now replaced by a similar (black) unit, which based on other reviews, is inferior to this older unit.  No need for a power adapter if using on an Ultrasharp.  Reduces cord clutter (you do have run the audio plug to your workstation and a short plug into the back of your dell monitor) and switches on/off with monitor or when powering PC off.  Good sound for what it is - great for my work computers but not much bass.  Better than some cheap desktop speakers I\\'ve purchased. Get \\'em while you can.\", \"I had a dell speaker that was 8 years old and broke so I got this similar one to replace it works well so far and sounds just like it should nothing to bad it\\'s a little louder than I thought for a computer speaker but not great sound since it is a computer speaker, got here fast and easy to install.\", \"I recently purchased an Ultrasharp display from Dell and accessorized it with a sound bar as I did previously with two other Ultrasharps.  The sound bar from Dell was different than the past ones.  Apparently Dell replaced their silver-faced AS501 with a new black-faced AX510.  Although the specifications are the same, the sound from the new AX510 is harsh and lacks bass.  Laptop speakers sound better!If you\\'re mixing the next Dark Side of the Moon, or need your ears to bleed while fragging imps, the AS501 probably isn\\'t for you.  If you\\'re looking for reasonable sound and reduced desk clutter, the AS501 is worth considering.The AS501 has other design features worth mentioning:- It has earphone jacks on the left side which are easy to access and have the added benefit of keeping the headphone cable away from the keyboard and (right hand) mouse.  Plugging in earphones cuts the sound to the speakers for private listening.- When plugged into a Dell Ultrasharp display, the AS501 turns off when the monitor goes into standby mode saving even more power.  Newer Ultrasharp monitors can bypass this feature via the display\\'s menu.Until I hear that Dell has improved the sound of the sound bars they sell, I\\'ll be buying AS501s from the sellers here.\"]'"
      ]
     },
     "execution_count": 21,
     "metadata": {},
     "output_type": "execute_result"
    }
   ],
   "source": [
    "df_sample['product_review'][0]"
   ]
  },
  {
   "cell_type": "code",
   "execution_count": 22,
   "metadata": {},
   "outputs": [
    {
     "data": {
      "text/plain": [
       "'[\\'OK. Value for money. Nothing spectacular\\', \\'Decent sound, small package but why not USB powered?\\', \\'Excellent Product\\', \\'On time and asexpected\\', \\'Generally good item\\', \\'Sound Bar\\', \\'Ordered, but not received\\', \\'no need for power supply with some monitors!!\\', \\'Simple but functional, not NEW\\', \\'Bought two and both came looking like they were 10 years old\\', \\'Outstanding Buy\\', \"They didn\\'t include power supply\", \\'Great value, space saver\\', \\'works and easy to install\\', \"Get\\'em while you still can\"]'"
      ]
     },
     "execution_count": 22,
     "metadata": {},
     "output_type": "execute_result"
    }
   ],
   "source": [
    "df_sample['review_summary'][0]"
   ]
  },
  {
   "cell_type": "code",
   "execution_count": 23,
   "metadata": {},
   "outputs": [
    {
     "data": {
      "text/plain": [
       "0     01/02/2014\n",
       "1     03/07/2014\n",
       "2     27/04/2014\n",
       "3     28/06/2014\n",
       "4     17/02/2014\n",
       "5     03/06/2014\n",
       "6     14/06/2014\n",
       "7     31/01/2014\n",
       "8     08/07/2014\n",
       "9     04/07/2014\n",
       "10    10/12/2013\n",
       "11    03/08/2011\n",
       "12    05/06/2014\n",
       "13    31/07/2013\n",
       "14    06/07/2014\n",
       "Name: latest_review_date, dtype: object"
      ]
     },
     "execution_count": 23,
     "metadata": {},
     "output_type": "execute_result"
    }
   ],
   "source": [
    "df_sample['latest_review_date']"
   ]
  },
  {
   "cell_type": "markdown",
   "metadata": {
    "id": "Gp3TG3fyiqK9"
   },
   "source": [
    "Having examined the sample output file content, the following observations were made:\n",
    "\n",
    "PID -> each txt file contain a unique product id\n",
    "\n",
    "product_review -> the format of product review in output cav file is a list format\n",
    "\n",
    "review_summary -> the format of review summary in output cav file is a list format\n",
    "\n",
    "latest_review_date -> only the latest review date required in csv output and the format is dd/mm/yyyy\n"
   ]
  },
  {
   "cell_type": "markdown",
   "metadata": {},
   "source": [
    "After that, check the content of sample txt file:"
   ]
  },
  {
   "cell_type": "code",
   "execution_count": 16,
   "metadata": {},
   "outputs": [
    {
     "data": {
      "text/plain": [
       "['<!DOCTYPE html>\\n',\n",
       " '<html lang=\"en\">\\n',\n",
       " '  <head>\\n',\n",
       " '\\n',\n",
       " '    <!-- Declared Vars To Go Here -->\\n',\n",
       " '\\n',\n",
       " '    <meta charset=\"utf-8\">\\n',\n",
       " '    <meta http-equiv=\"X-UA-Compatible\" content=\"IE=edge\">\\n',\n",
       " '    <meta name=\"viewport\" content=\"width=device-width, initial-scale=1\">\\n',\n",
       " '\\n',\n",
       " '    <!-- Metadata -->\\n',\n",
       " '    <meta name=\"description\" content=\"\">\\n',\n",
       " '    <meta name=\"author\" content=\"\">\\n',\n",
       " '\\n',\n",
       " '    <link rel=\"icon\" href=\"mysource_files/favicon.ico\">\\n',\n",
       " '\\n',\n",
       " '    <!-- Page Name and Site Name -->\\n',\n",
       " '    <title>A1-Task1</title>\\n',\n",
       " '\\n',\n",
       " '    <!-- CSS -->\\n',\n",
       " '    <link href=\"https://maxcdn.bootstrapcdn.com/bootstrap/3.3.6/css/bootstrap.min.css\" rel=\"stylesheet\">\\n',\n",
       " '    <link href=\"mysource_files/style.css\" rel=\"stylesheet\">\\n',\n",
       " '\\n',\n",
       " '  </head>\\n',\n",
       " '\\n',\n",
       " '  <body>\\n',\n",
       " '\\n',\n",
       " '    <div class=\"container\">\\n',\n",
       " '\\n',\n",
       " '      <header class=\"header clearfix\" style=\"background-color: #ffffff\">\\n',\n",
       " '\\n',\n",
       " '        <!-- Main Menu -->\\n',\n",
       " '        <nav>\\n',\n",
       " '          <ul class=\"nav nav-pills pull-right\">\\n',\n",
       " '            <li class=\"active\"><a href=\"#\">Home</a></li>\\n',\n",
       " '            <li><a href=\"#\">About</a></li>\\n',\n",
       " '            <li><a href=\"#\">Contact</a></li>\\n',\n",
       " '          </ul>\\n',\n",
       " '        </nav>\\n',\n",
       " '\\n',\n",
       " '        <!-- Site Name -->\\n',\n",
       " '        <h1 class=\"h3 text-muted\">Site Name</h1>\\n',\n",
       " '\\n',\n",
       " '        <!-- Breadcrumbs -->\\n',\n",
       " '        <ol class=\"breadcrumb\">\\n',\n",
       " '          <li><a href=\"#\">Home</a></li>\\n',\n",
       " '          <li><a href=\"#\">Level 1</a></li>\\n',\n",
       " '          <li class=\"active\">Level 2</li>\\n',\n",
       " '        </ol>\\n',\n",
       " '\\n',\n",
       " '      </header>\\n',\n",
       " '\\n',\n",
       " '      <div class=\"page-heading\">\\n',\n",
       " '\\n',\n",
       " '        <!-- Page Heading -->\\n',\n",
       " '        <h1>Page Heading</h1>\\n',\n",
       " '\\n',\n",
       " '      </div>\\n',\n",
       " '\\n',\n",
       " '      <div class=\"row\">\\n',\n",
       " '\\n',\n",
       " '        <div class=\"col-sm-3\">\\n',\n",
       " '\\n',\n",
       " '          <!-- Sub Navigation -->\\n',\n",
       " '          <ul class=\"nav nav-pills nav-stacked\">\\n',\n",
       " '            <li><a href=\"#\">Level 2</a></li>\\n',\n",
       " '            <li class=\"active\"><a href=\"#\">Level 2</a>\\n',\n",
       " '              <ul>\\n',\n",
       " '                <li><a href=\"#\">Level 3</a></li>\\n',\n",
       " '                <li><a href=\"#\">Level 3</a></li>\\n',\n",
       " '                <li><a href=\"#\">Level 3</a></li>\\n',\n",
       " '              </ul>\\n',\n",
       " '            </li>\\n',\n",
       " '            <li><a href=\"#\">Level 2</a></li>\\n',\n",
       " '          </ul>\\n',\n",
       " '\\n',\n",
       " '        </div>\\n',\n",
       " '\\n',\n",
       " '        <div class=\"col-sm-6\">\\n',\n",
       " '\\n',\n",
       " '          <div class=\"page-contents\">\\n',\n",
       " '\\n',\n",
       " '            <!-- Design Body -->\\n',\n",
       " '            <h2>Sub Heading</h2>\\n',\n",
       " '            <p>Donec id elit non mi porta gravida at eget metus. Maecenas faucibus mollis interdum.</p>\\n',\n",
       " '            <h4>Sub Heading</h4>\\n',\n",
       " '            <p>Morbi leo risus, porta ac consectetur ac, vestibulum at eros. Cras mattis consectetur purus sit amet fermentum.</p>\\n',\n",
       " '            <h4>Sub Heading</h4>\\n',\n",
       " '            <p>Maecenas sed diam eget risus varius blandit sit amet non magna.</p>\\n',\n",
       " '\\n',\n",
       " '          </div>\\n',\n",
       " '\\t\\t  \\n',\n",
       " '\\t\\t  <div class=\"page-contents\">\\n',\n",
       " '\\n',\n",
       " '            <!-- Design Body -->\\n',\n",
       " '\\t\\t\\t<h1> product id </h1>\\n',\n",
       " '<h1> Product ID <h1>\\n',\n",
       " ' <p> B000KIQ15U <p>\\n',\n",
       " '\\n',\n",
       " '<h1> REVIEWS <h1>\\n',\n",
       " '\\n',\n",
       " '\\n',\n",
       " '\\n',\n",
       " '\\n',\n",
       " '<h2> REVIEW SUMMARY </h2>\\n',\n",
       " '\\n',\n",
       " ' <p> OK. Value for money. Nothing spectacular </p>\\n',\n",
       " '\\n',\n",
       " '\\n',\n",
       " '<h2> REVIEW DATE </h2>\\n',\n",
       " '  09-27-2012  \\n',\n",
       " '<h2> REVIEW TEXT </h2>\\n',\n",
       " '\\n',\n",
       " ' <p> This is worth it for the convenience and the space-saving way it clips underneath the Dell Ultrasharp screen. The sound is clear but lacking in punch in the mid-range and with poor bass response, but that is inevitable for a speaker of this size and weight. Four stars because it is good. Not 5 stars because it is not excellent. </p>\\n',\n",
       " '\\n',\n",
       " '\\n',\n",
       " '<h2> REVIEW SUMMARY </h2>\\n',\n",
       " '\\n',\n",
       " ' <p> Decent sound, small package but why not USB powered? </p>\\n',\n",
       " '\\n',\n",
       " '\\n',\n",
       " '<h2> REVIEW DATE </h2>\\n',\n",
       " '  09-18-2012  \\n',\n",
       " '<h2> REVIEW TEXT </h2>\\n',\n",
       " '\\n',\n",
       " \" <p> Just received the sound bar and installation was easy.  It has decent sound for what it is, a small speaker.  If you want great sound, this is wrong product.  I clips right onto the bottom of the monitor (but you better make sure you have the correct Dell monitor for this speaker) so it is office the desktop.I have one question for the designers.  The monitor has 4 powered USB ports.  Why did you design a product that required the AC/DC converter and speaker cable rather than have it plug into the USB port that is 2 inches away?  Also, that blue light did not have to be so bright.  It is dead on center and really annoying.  If you had placed the light 6 inches to the side, the grill would have blocked the direct light.  Just give me the knowledge to know that it is on and don't blind me with the fact.  I am about to go to my workbench for a piece of tape to cover the lightFor these two design annoyances, the product losses 1 star.  However, if you have the right monitor and want to free up deskspace, go for it. </p>\\n\",\n",
       " '\\n',\n",
       " '\\n',\n",
       " '<h2> REVIEW SUMMARY </h2>\\n',\n",
       " '\\n',\n",
       " ' <p> Excellent Product </p>\\n',\n",
       " '\\n',\n",
       " '\\n',\n",
       " '<h2> REVIEW DATE </h2>\\n',\n",
       " '  02-06-2013  \\n',\n",
       " '<h2> REVIEW TEXT </h2>\\n',\n",
       " '\\n',\n",
       " ' <p> I got this because it was good price and its works as intended. It has worked flawlessly for years on end. </p>\\n',\n",
       " '\\n',\n",
       " '\\n',\n",
       " '<h2> REVIEW SUMMARY </h2>\\n',\n",
       " '\\n',\n",
       " ' <p> On time and asexpected </p>\\n',\n",
       " '\\n',\n",
       " '\\n',\n",
       " '<h2> REVIEW DATE </h2>\\n',\n",
       " '  04-26-2010  \\n',\n",
       " '<h2> REVIEW TEXT </h2>\\n',\n",
       " '\\n',\n",
       " ' <p> The speaker bar arrived on time as expected and was a reasonable price. Much cheaper than Dell! </p>\\n',\n",
       " '\\n',\n",
       " '\\n',\n",
       " '<h2> REVIEW SUMMARY </h2>\\n',\n",
       " '\\n',\n",
       " ' <p> Generally good item </p>\\n',\n",
       " '\\n',\n",
       " '\\n',\n",
       " '<h2> REVIEW DATE </h2>\\n',\n",
       " '  03-19-2013  \\n',\n",
       " '<h2> REVIEW TEXT </h2>\\n',\n",
       " '\\n',\n",
       " ' <p> This sound bar is easy to install, works as advertised and takes up no desk space.The delivery was prompt. The only reason for 4 stars instead of 5 stars is the fidelity. This unit replaced a couple of 4 inch base reflex enclosures. Needless to say they sounded a lot better. They also cluttered up the desk a lot. If you want compact an reasonable sound this item is for you. If your looking for big sound spend a lot of money on something else. </p>\\n',\n",
       " '\\n',\n",
       " '\\n',\n",
       " '<h2> REVIEW SUMMARY </h2>\\n',\n",
       " '\\n',\n",
       " ' <p> Sound Bar </p>\\n',\n",
       " '\\n',\n",
       " '\\n',\n",
       " '<h2> REVIEW DATE </h2>\\n',\n",
       " '  01-30-2010  \\n',\n",
       " '<h2> REVIEW TEXT </h2>\\n',\n",
       " '\\n',\n",
       " ' <p> Use the sound bar every day looks great, works great and take up no rook on my desk. </p>\\n',\n",
       " '\\n',\n",
       " '\\n',\n",
       " '<h2> REVIEW SUMMARY </h2>\\n',\n",
       " '\\n',\n",
       " ' <p> Ordered, but not received </p>\\n',\n",
       " '\\n',\n",
       " '\\n',\n",
       " '<h2> REVIEW DATE </h2>\\n',\n",
       " '  04-03-2013  \\n',\n",
       " '<h2> REVIEW TEXT </h2>\\n',\n",
       " '\\n',\n",
       " \" <p> Ordered, but not received.  I have seen this product on monitors in offices and they seem like a great product.  I purchaced a similar product for my wife's monitor to remove the clutter caused by the speakers.  I gave it four stars because I would expect that it is as excellent a product as the one that I purchased from another source.  Hope that helps. </p>\\n\",\n",
       " '\\n',\n",
       " '\\n',\n",
       " '<h2> REVIEW SUMMARY </h2>\\n',\n",
       " '\\n',\n",
       " ' <p> no need for power supply with some monitors!! </p>\\n',\n",
       " '\\n',\n",
       " '\\n',\n",
       " '<h2> REVIEW DATE </h2>\\n',\n",
       " '  06-20-2013  \\n',\n",
       " '<h2> REVIEW TEXT </h2>\\n',\n",
       " '\\n',\n",
       " ' <p> Put this on a Dell p1911 monitor and it looks and works just fine-  my monitor has a power plug built in for this speaker, so i didnt even need the power supply that came with it- but, nice to have an extra power supply anyway.installing is a matter of \"line it up! click in place!\"  plug power cord into monitor and plug into headphone jack on pc/laptop-  about 1 min total-btw- mine was brand new and still sealed in dell box!  from  Wildcat IT  thx WILDCAT </p>\\n',\n",
       " '\\n',\n",
       " '\\n',\n",
       " '<h2> REVIEW SUMMARY </h2>\\n',\n",
       " '\\n',\n",
       " ' <p> Simple but functional, not NEW </p>\\n',\n",
       " '\\n',\n",
       " '\\n',\n",
       " '<h2> REVIEW DATE </h2>\\n',\n",
       " '  04-27-2013  \\n',\n",
       " '<h2> REVIEW TEXT </h2>\\n',\n",
       " '\\n',\n",
       " ' <p> The item works good and got power directly from the monitor.  The item is not new but it is used!  The title is somewhat misleading. </p>\\n',\n",
       " '\\n',\n",
       " '\\n',\n",
       " '<h2> REVIEW SUMMARY </h2>\\n',\n",
       " '\\n',\n",
       " ' <p> Bought two and both came looking like they were 10 years old </p>\\n',\n",
       " '\\n',\n",
       " '\\n',\n",
       " '<h2> REVIEW DATE </h2>\\n',\n",
       " '  12-05-2012  \\n',\n",
       " '<h2> REVIEW TEXT </h2>\\n',\n",
       " '\\n',\n",
       " ' <p> Clearly these came from an office where they were used for years and years. they are dented scratched and the cables have been bent considerably. If you have a product that is used SELL IT THAT WAY! </p>\\n',\n",
       " '\\n',\n",
       " '\\n',\n",
       " '<h2> REVIEW SUMMARY </h2>\\n',\n",
       " '\\n',\n",
       " ' <p> Outstanding Buy </p>\\n',\n",
       " '\\n',\n",
       " '\\n',\n",
       " '<h2> REVIEW DATE </h2>\\n',\n",
       " '  02-01-2014  \\n',\n",
       " '<h2> REVIEW TEXT </h2>\\n',\n",
       " '\\n',\n",
       " ' <p> just what I needed for a new Dell ultra pc monitor I purchased amazing value for quality of this type of product </p>\\n',\n",
       " '\\n',\n",
       " '\\n',\n",
       " '<h2> REVIEW SUMMARY </h2>\\n',\n",
       " '\\n',\n",
       " \" <p> They didn't include power supply </p>\\n\",\n",
       " '\\n',\n",
       " '\\n',\n",
       " '<h2> REVIEW DATE </h2>\\n',\n",
       " '  01-04-2013  \\n',\n",
       " '<h2> REVIEW TEXT </h2>\\n',\n",
       " '\\n',\n",
       " ' <p> I have one of these, love it, but this one they sent with no power supply so I had to return.  Useless. </p>\\n',\n",
       " '\\n',\n",
       " '\\n',\n",
       " '<h2> REVIEW SUMMARY </h2>\\n',\n",
       " '\\n',\n",
       " ' <p> Great value, space saver </p>\\n',\n",
       " '\\n',\n",
       " '\\n',\n",
       " '<h2> REVIEW DATE </h2>\\n',\n",
       " '  02-19-2011  \\n',\n",
       " '<h2> REVIEW TEXT </h2>\\n',\n",
       " '\\n',\n",
       " \" <p> This is older (Silver)version for the Dell Ultrasharp series now replaced by a similar (black) unit, which based on other reviews, is inferior to this older unit.  No need for a power adapter if using on an Ultrasharp.  Reduces cord clutter (you do have run the audio plug to your workstation and a short plug into the back of your dell monitor) and switches on/off with monitor or when powering PC off.  Good sound for what it is - great for my work computers but not much bass.  Better than some cheap desktop speakers I've purchased. Get 'em while you can. </p>\\n\",\n",
       " '\\n',\n",
       " '\\n',\n",
       " '<h2> REVIEW SUMMARY </h2>\\n',\n",
       " '\\n',\n",
       " ' <p> works and easy to install </p>\\n',\n",
       " '\\n',\n",
       " '\\n',\n",
       " '<h2> REVIEW DATE </h2>\\n',\n",
       " '  07-29-2013  \\n',\n",
       " '<h2> REVIEW TEXT </h2>\\n',\n",
       " '\\n',\n",
       " \" <p> I had a dell speaker that was 8 years old and broke so I got this similar one to replace it works well so far and sounds just like it should nothing to bad it's a little louder than I thought for a computer speaker but not great sound since it is a computer speaker, got here fast and easy to install. </p>\\n\",\n",
       " '\\n',\n",
       " '\\n',\n",
       " '<h2> REVIEW SUMMARY </h2>\\n',\n",
       " '\\n',\n",
       " \" <p> Get'em while you still can </p>\\n\",\n",
       " '\\n',\n",
       " '\\n',\n",
       " '<h2> REVIEW DATE </h2>\\n',\n",
       " '  06-08-2009  \\n',\n",
       " '<h2> REVIEW TEXT </h2>\\n',\n",
       " '\\n',\n",
       " \" <p> I recently purchased an Ultrasharp display from Dell and accessorized it with a sound bar as I did previously with two other Ultrasharps.  The sound bar from Dell was different than the past ones.  Apparently Dell replaced their silver-faced AS501 with a new black-faced AX510.  Although the specifications are the same, the sound from the new AX510 is harsh and lacks bass.  Laptop speakers sound better!If you're mixing the next Dark Side of the Moon, or need your ears to bleed while fragging imps, the AS501 probably isn't for you.  If you're looking for reasonable sound and reduced desk clutter, the AS501 is worth considering.The AS501 has other design features worth mentioning:- It has earphone jacks on the left side which are easy to access and have the added benefit of keeping the headphone cable away from the keyboard and (right hand) mouse.  Plugging in earphones cuts the sound to the speakers for private listening.- When plugged into a Dell Ultrasharp display, the AS501 turns off when the monitor goes into standby mode saving even more power.  Newer Ultrasharp monitors can bypass this feature via the display's menu.Until I hear that Dell has improved the sound of the sound bars they sell, I'll be buying AS501s from the sellers here. </p>\\n\",\n",
       " '\\n',\n",
       " '</div>\\n',\n",
       " '\\n',\n",
       " '        </div>\\n',\n",
       " '\\n',\n",
       " '      </div>\\n',\n",
       " '\\n',\n",
       " '\\n',\n",
       " '    </div> <!-- /container -->\\n',\n",
       " '\\n',\n",
       " '  </body>\\n',\n",
       " '</html>']"
      ]
     },
     "execution_count": 16,
     "metadata": {},
     "output_type": "execute_result"
    }
   ],
   "source": [
    "with open('./sample IO/sample/1.txt') as f1:\n",
    "    content = f1.readlines()\n",
    "content"
   ]
  },
  {
   "cell_type": "markdown",
   "metadata": {},
   "source": [
    "The txt file is html format and one txt file contain only one product id, but with many different review text, review date, and review summary.\n",
    "\n",
    "PID -> product id -> the content of id is followed by html heading \"Product ID\"\n",
    "\n",
    "product_review -> REVIEW TEXT -> the content of product_review is followed by html secondary heading \"REVIEW TEXT\"\n",
    "\n",
    "review_summary -> REVIEW SUMMARY -> the content of review_summary is followed by html secondary heading \"REVIEW SUMMARY\"\n",
    "\n",
    "latest_date -> REVIEW DATE -> the content of latest_date is folliwed by html secondary heading \"REVIEW DATE\"\n",
    "\n",
    "\n"
   ]
  },
  {
   "cell_type": "markdown",
   "metadata": {
    "id": "fBEASWLfiqK-"
   },
   "source": [
    "-------------------------------------"
   ]
  },
  {
   "cell_type": "markdown",
   "metadata": {
    "collapsed": true,
    "id": "iDoVeDSHiqK-"
   },
   "source": [
    "<div class=\"alert alert-block alert-warning\"> \n",
    "\n",
    "## 4.  Loading and Parsing Files <a class=\"anchor\" name=\"load\"></a>\n",
    "\n",
    "</div>"
   ]
  },
  {
   "cell_type": "markdown",
   "metadata": {
    "id": "z24HaN8hiqK-"
   },
   "source": [
    "In this section, all the `.txt` files are parsed and processed. First of all, appropriate regular expressions are defined to extract desired information when reading the files. After that, using the regex to extract data and saving them in different lists prepare for covert to dataframe. Lastly, using pandas to create a dataframe prepare for writing to csv."
   ]
  },
  {
   "cell_type": "markdown",
   "metadata": {
    "id": "gQ0tuwvZiqK-"
   },
   "source": [
    "-------------------------------------"
   ]
  },
  {
   "cell_type": "markdown",
   "metadata": {
    "id": "rApp_Ic9iqK-"
   },
   "source": [
    "<div class=\"alert alert-block alert-info\">\n",
    "    \n",
    "### 4.1. Defining Regular Expressions <a class=\"anchor\" name=\"Reg_Exp\"></a>"
   ]
  },
  {
   "cell_type": "markdown",
   "metadata": {
    "id": "knauV0VViqK-"
   },
   "source": [
    "Defining correct regular expressions is crucial in extracting desired information from the text efficiently. Sice we have found the location of the required content in the txt files by observe the txt files, therefore, we can use the pattern that we have observed in txt files to help us design the correct and effcient regular expressions. In this section, we need four regex for extract content from txt files."
   ]
  },
  {
   "cell_type": "markdown",
   "metadata": {},
   "source": [
    "First of all, find the Keyword of output content"
   ]
  },
  {
   "cell_type": "code",
   "execution_count": 46,
   "metadata": {},
   "outputs": [],
   "source": [
    "pid_title = []\n",
    "review_title = []\n",
    "\n",
    "for item in os.listdir('32281943'):\n",
    "    if item != '.DS_store':\n",
    "        with open('32281943/' + item, 'r') as data_extract_file:\n",
    "            data_extract = data_extract_file.read()\n",
    "            pid_attr = re.findall(r'<h1>(.*?)<h1>', data_extract)\n",
    "            pid_title.extend(pid_attr)\n",
    "            review_attr = re.findall(r'<h2>(.*?).<.*>', data_extract)\n",
    "            review_title.extend(review_attr)\n",
    "            "
   ]
  },
  {
   "cell_type": "code",
   "execution_count": 42,
   "metadata": {
    "scrolled": true
   },
   "outputs": [
    {
     "data": {
      "text/plain": [
       "{' PRODUCT.ID ',\n",
       " ' PRODUCT_ID ',\n",
       " ' Product ID ',\n",
       " ' REVIEWS ',\n",
       " ' product.reviews ',\n",
       " ' product_reviews '}"
      ]
     },
     "execution_count": 42,
     "metadata": {},
     "output_type": "execute_result"
    }
   ],
   "source": [
    "set(pid_title)"
   ]
  },
  {
   "cell_type": "code",
   "execution_count": 48,
   "metadata": {
    "scrolled": true
   },
   "outputs": [
    {
     "data": {
      "text/plain": [
       "{' REVIEW DATE',\n",
       " ' REVIEW SUMMARY',\n",
       " ' REVIEW TEXT',\n",
       " ' review.date',\n",
       " ' review.summary',\n",
       " ' review.text',\n",
       " 'Sub Headin'}"
      ]
     },
     "execution_count": 48,
     "metadata": {},
     "output_type": "execute_result"
    }
   ],
   "source": [
    "set(review_title)"
   ]
  },
  {
   "cell_type": "markdown",
   "metadata": {},
   "source": [
    "The output cells above shows the pattern of keywords to position the output content. By observe these output, we can find that there are different pattern of keyword in txt files; And these pattern can help us to design the regex."
   ]
  },
  {
   "cell_type": "code",
   "execution_count": null,
   "metadata": {
    "id": "X1m7-oIfiqK_"
   },
   "outputs": [],
   "source": [
    "pattern_id = r'<h1>.*?<h1>\\n <p> (\\S.*?) <p>' \n"
   ]
  },
  {
   "attachments": {
    "image.png": {
     "image/png": "[encoded data removed]"
    }
   },
   "cell_type": "markdown",
   "metadata": {},
   "source": [
    "![image.png](attachment:image.png)"
   ]
  },
  {
   "cell_type": "markdown",
   "metadata": {},
   "source": [
    "The product id can be found the after the h1 HTML tag and followed by a line break'\\n'and start with paragraph html tag, so we can use these two html tags to loacte the id and using group() to return the id that we need."
   ]
  },
  {
   "cell_type": "code",
   "execution_count": null,
   "metadata": {},
   "outputs": [],
   "source": [
    "pattern_review = r'<h2> (?:review.text|REVIEW TEXT).<.*>\\n\\n.<p>.(.*?).<\\/p>'"
   ]
  },
  {
   "attachments": {
    "image%20%281%29.png": {
     "image/png": "[encoded data removed]"
    }
   },
   "cell_type": "markdown",
   "metadata": {},
   "source": [
    "![image%20%281%29.png](attachment:image%20%281%29.png)"
   ]
  },
  {
   "cell_type": "markdown",
   "metadata": {},
   "source": [
    "In the observation before, we found that review text has two different format in txt file, hence, we use (?: to match patterns review.text|REVIEW TEXT but not get result. | means match the pattern review.text or REVIEW TEXT. Since review is the secondary heading in html file so use heading html tag to match review summary title. And the final result can be found after two break lines and followed by pargraph html tags and one white space. so we use pargraph html tags and . to loacte the review content and use group() to return the review content that we need."
   ]
  },
  {
   "cell_type": "code",
   "execution_count": null,
   "metadata": {},
   "outputs": [],
   "source": [
    "pattern_summary = r'<h2> (?:review.summary|REVIEW SUMMARY).<.*>\\s\\s.<p>.(.*?).<.*>'"
   ]
  },
  {
   "attachments": {
    "image%20%282%29.png": {
     "image/png": "[encoded data removed]"
    }
   },
   "cell_type": "markdown",
   "metadata": {},
   "source": [
    "![image%20%282%29.png](attachment:image%20%282%29.png)"
   ]
  },
  {
   "cell_type": "markdown",
   "metadata": {},
   "source": [
    "Same with product review, there has two different pattern of review summary based on the observation before, therefore\n",
    "use (?: to match patterns review.summary|REVIEW SUMMARY but not get result. | means match the pattern review.summary or REVIEW SUMMARY. Since review summary is the secondary heading in html file so use heading html tag to match review summary title. And the final result can be found after two break lines and followed by pargraph html tags and one white space. so we use pargraph html tags and . to loacte the review content and use group() to return the review summary content that we need."
   ]
  },
  {
   "cell_type": "code",
   "execution_count": null,
   "metadata": {},
   "outputs": [],
   "source": [
    "pattern_date = r'<h2> (?:review.date|REVIEW DATE).<.*>\\n..(\\S{0,10})'"
   ]
  },
  {
   "attachments": {
    "image%20%283%29.png": {
     "image/png": "[encoded data removed]"
    }
   },
   "cell_type": "markdown",
   "metadata": {},
   "source": [
    "![image%20%283%29.png](attachment:image%20%283%29.png)"
   ]
  },
  {
   "cell_type": "markdown",
   "metadata": {},
   "source": [
    "Same with product review and summary , there has two different pattern of review date based on the observation before, therefore use (?: to match patterns review.date|REVIEW DATE but not get result. | means match the pattern review.summary or REVIEW SUMMARY. Since review summary is the secondary heading in html file so use heading html tag to match review date title. And the final result can be found after a break lines and followed by two white space.\\S{0,10} means find the non-whitespace characters that at least zero to 10 occurrences. As a result, we use \\n and . to loacte the review date content and use group() to return the review date content that we need."
   ]
  },
  {
   "cell_type": "markdown",
   "metadata": {
    "id": "YTqmBHIKiqK_"
   },
   "source": [
    "These patterns are used in the next step when reading the files."
   ]
  },
  {
   "cell_type": "markdown",
   "metadata": {
    "id": "gZ-njkJciqK_"
   },
   "source": [
    "-------------------------------------"
   ]
  },
  {
   "cell_type": "markdown",
   "metadata": {
    "id": "QGcAMvmhiqK_"
   },
   "source": [
    "<div class=\"alert alert-block alert-info\">\n",
    "    \n",
    "### 4.2. Reading Files and Extract information <a class=\"anchor\" name=\"Read\"></a>"
   ]
  },
  {
   "cell_type": "markdown",
   "metadata": {
    "id": "llC5D5M3iqK_"
   },
   "source": [
    "In this step, all tweet files are read and parsed while using the regular expression that has defined before. Since there may have hidden file in mac system, therefore set \"item != '.DS_store'\" for only open non-hidden files."
   ]
  },
  {
   "cell_type": "code",
   "execution_count": 50,
   "metadata": {},
   "outputs": [],
   "source": [
    "product_id_list = []\n",
    "product_review_list = []\n",
    "product_summary_list = []\n",
    "product_date_list = []\n"
   ]
  },
  {
   "cell_type": "markdown",
   "metadata": {},
   "source": [
    "Create four empty list for store extracted information"
   ]
  },
  {
   "cell_type": "code",
   "execution_count": 51,
   "metadata": {},
   "outputs": [],
   "source": [
    "for item in os.listdir('32281943'):\n",
    "    if item != '.DS_store':\n",
    "        with open('32281943/' + item) as data_extract_file:\n",
    "            data_extract = data_extract_file.read()\n",
    "            product_id = re.findall(r'<h1>.*?<h1>\\n <p> (\\S.*?) <p>', data_extract)\n",
    "            product_review = re.findall(r'<h2> (?:review.text|REVIEW TEXT).<.*>\\n\\n.<p>.(.*?).<\\/p>', data_extract)\n",
    "            product_summary = re.findall(r'<h2> (?:review.summary|REVIEW SUMMARY).<.*>\\s\\s.<p>.(.*?).<.*>', data_extract)\n",
    "            product_review_date = re.findall(r'<h2> (?:review.date|REVIEW DATE).<.*>\\n..(\\S{0,10})',data_extract)\n",
    "            product_review_date.sort(key = lambda x:x[-4:] + x[:5], reverse = True)\n",
    "            latest_date = product_review_date[0]\n",
    "            product_id_list.extend(product_id)\n",
    "            product_review_list.append(product_review)\n",
    "            product_summary_list.append(product_summary)\n",
    "            product_date_list.append(latest_date)"
   ]
  },
  {
   "cell_type": "markdown",
   "metadata": {},
   "source": [
    "Since the final output in csv file only need the latest date of review date, and based on the observation before we find that there has many different review date in one txt file, therefore, we using lambda convert the extracted review date 'dd-mm-yyyy' to the numbers format and then use sort function to sorting in descending order. The latest date now is the first element in product_review_date. Then use the list to store the extracted data. In the list storage part we use append for review and summary in order to when output to csv file can have the same list format like sample."
   ]
  },
  {
   "cell_type": "markdown",
   "metadata": {
    "id": "G-brytUfiqLA"
   },
   "source": [
    "Let's take a look at the first ten elements of the lists generated. We can see that ids, dates, and tweets are parsed and stored correctly."
   ]
  },
  {
   "cell_type": "code",
   "execution_count": 52,
   "metadata": {},
   "outputs": [
    {
     "data": {
      "text/plain": [
       "['B006T0R1WU',\n",
       " 'B001Y44EBW',\n",
       " 'B003VADRZ6',\n",
       " 'B000SMZ9E2',\n",
       " 'B0009W7OJO',\n",
       " 'B005QFH4L2',\n",
       " 'B0055U94G6',\n",
       " 'B0089GWZ82',\n",
       " 'B00E4C8OTO',\n",
       " '149541857X']"
      ]
     },
     "execution_count": 52,
     "metadata": {},
     "output_type": "execute_result"
    }
   ],
   "source": [
    "product_id_list[:10]"
   ]
  },
  {
   "cell_type": "code",
   "execution_count": 53,
   "metadata": {},
   "outputs": [
    {
     "data": {
      "text/plain": [
       "[[\"if you are someone like me who has ingested just about every crime media from sweden and scandinavia, the problem becomes you start getting picky.  there is only so much new and different which can be done in crime shows and the swedes have already broken all records with wallander and salander.  of the females in crime detecting in sweden, liz salander is the best, from the millenium trilogy.  then irene huss comes next.  and finally maria wern, the cop in this series.  dare i say it?  she is almost too normal.she does not have any quirks which make her stand out from the pack although she is arguably the best looking..in sum, i liked these cases with wern but i didn't love them.  if more were released tomorrow, i'd skip them.  if you have not seen much of swedish crime shows though, only american ones, it will probably strike you as terrific.\",\n",
       "  \"The acting, story-lines,images and editing for this series are second-rate......spend your $$$$$ and time on series such as Silent Witness, Waking the Dead, Foyle's War or Dexter. Maria Wern has all the charm of a washcloth. I wasted my $$$ on this.......such is life.\",\n",
       "  'This time its the female detective doing all the thinking bringing a feminine approach to things. This series has freshened  up the well made Swedish cop series with some beauty as well as brains.',\n",
       "  'This police/detective series, \"Maria Wern\" is a highly intense Swedish (with sub-titles) \"Police drama\" that, for me, is filmed in a very different part of the world (albeit a very pretty part of the world), that being on an island, with gorgeous sun-sets, in Sweden.  Maria Wern (wonderfully and very believably acted by Eva Rose--don\\'t be fooled by her looks, she\\'s tough), while always very concerned for her family and while very intently mourning the death of her husband, is a \"super\" cop  solving some very well written and directed horrible cases including a teen girl\\'s(with a surprising secret) suicide, baby kidnapping,  ardent \"animal rights\" advocates that will use any means possible to get their points across, etc. I found all three (3) of the hour and one-half episodes to be very intriguing and \"nail biting \"good.This series was acquired, by me, by accident (long story); however, I enjoyed it very much and intend to purchase more episodes in the series.',\n",
       "  \"Maria Wern was a real disappointment. Eva Rose, who plays Maria. expresses emotion mainly by letting her hair hang loose to her elbows or, in tense scenes, putting it in a french braid. I don't know if she's trying to exprerss scandanavian stoicism or if she's just had too much botox, but she cycles through two facial expressions whether rescuing her daughter friom a murderess or greeting an old lover. And I am getting tired of female detectives in authority being presented with a cop on staff who looks like a matinee idol, complete with chiseled features and six-pack abs. You just roll your eyes.\",\n",
       "  'I am impressed with this series.  It\\'s powerful, suspenseful, and well-plotted. There\\'s good character development bolstered by an emotional \"pull\" that draws the viewer into caring about the people portrayed.  That extra dimension proves the skill of both the screenwriters and the actors.  The story line revolves around the character of Maria Wern, a seasoned police officer who is also a recent widow with two young children. Maria is played intelligently and sensitively by Eva Rose. The struggles that she endures, putting their lives back on track while pursuing her career as a senior police officer, resonate with the viewer as a genuine effort --  it is not a cliche-ridden treatment , or an overly-emotional one. The character does not wallow in self-pity; neither is she so numbed by her own suffering that she\\'s devoid of compassion for others.  It\\'s a believable blend. The other ensemble actors are also very good and their characters seem fleshed-out and nuanced --they are people one can relate to and come to care about. Personally, I found this especially true of Maria\\'s boss, Thomas.  Thankfully, he is not portrayed as the typical stock character of a gruff-but-indulgent boss, or an administrator more concerned with the departmental budget than with effective policing. Neither is he a chauvinist who patronizes Maria.  It\\'s so refreshing to have professionals portrayed as decent, normal folks who can rise above petty jealousies to do their jobs as a team. The plots are fairly inventive, though I\\'ve seen a similar opening gambit in another series (it\\'s shocking and haunting, so heads-up). A further point is that it is offered in Swedish, but the subtitles are excellent and do not detract from the viewing experience. Overall, then, I do recommend this series as being intelligent, well-done, and compelling.',\n",
       "  'Maria Wern is one of the best Swedish mystery series available in the United States. Wish their were more than seven episodes. All of the actors are outstanding!',\n",
       "  \"I first bought this on a hunch and glad I did.Story line is great/acting. You won't be disappointed.Endjoy episodes 4-7 also.\",\n",
       "  \"I go into much more detail in my review of episodes 4 to 7. Suffice it to say here Episode 1, THE SPEECHLESS GOD, is based on Anna Jansson's 2000 novel  &#34;Stum sitter guden,&#34; Episode 2 ALL THE TRANQUIL DEAD on the 2001 novel &#34;Alla de stillsamma d&ouml;da,&#34; and Episode 3 DREAMS FROM SNOW on the 2002 novel  &#34;M d&ouml;den sova.&#34;\",\n",
       "  'I have read the books, and now I have seen 3 episodes, and is like the filmed version better than the book. Maria Wern, is not a likable character in the book, at least I did not like her.Eva Rose who plays Police Inspector, Maria Wern, is a very attractive, intelligent woman. And, she is an excellent detective. Her loving husband has recently died, leaving her with two small children. They are all mourning. Luckily  Maria has a superb boss who adores her. He acts mean, but he really is a nice man.In these three chapters, Maria meets up again with an old love she had in college. They parted on not good terms, and she tries to ignore him. See how it goes. The cases are difficult and dangerous, and somewhat follow the books. There are twists and turns, and surprises. This is a good series.Recommended. prisrob 07-01-14',\n",
       "  'Got hooked on Swedish detective series with the Wallander dvds. I have purchased and watched the first seven episodes of Maria Wern and I rank it up there with Wallander. Also, Gotland, an island, is a very interesting setting.',\n",
       "  \"This is better than many American TV shows.  It's beautifully filmed (lighting, scenery, the camera work).  I'm a sucker for closeups and shows that take the trouble to reveal the human side of things.  I can't give it 5 stars because for me, the story lines and their trajectories aren't quite tight enough, meander somewhat, and don't have that WOW factor- that satisying Columbo-like PUNCH- of COURSE, that makes PERFECT sense, at the end.  Gratuitous elements are added for dramatic effect/shock value, rather than in service to a tight plot (example- **spoiler alert**- in episode one the severed head in the well made sense, the others, not so much).  A few too many coincidences, things that don't quite add up, loose ends tied up in improbable ways (Maria's neighbors on either side!) or not at all.There's pathos but I just wasn't feeling it, for some reason.  I liked that time was taken to reveal particulars of characters' experiences (Maria looking longingly at her husband's photo, the chief interacting with his wife's dog) but for me the personal didn't go deep enough, I didn't feel I knew/understood these people, maybe too subtle for me.  It may be just YOUR cup of tea though and I do recommend it, worth seeing.A similar though better series, that I HIGHLY recommend, (also with stunning scenery, and humanity, but with tidier plots and greater depth, though somewhat darker, an Irish show) isSingle-Handed.  This is the PAL DVD link, at the moment I'm unable to insert the link to the Instant Video, free with Prime, but it comes up if you search in the main search box for single-handed in instant video.  Ditto with the marvelousBorgen, from Norway, one of the best series EVER, imo, 30 meaty, densely-packed hours of suspense and heart, viewing bliss (at this writing only available on DVD or Blu-ray).\"],\n",
       " [\"Cherry Blossoms (2008) film by Doris Dorrie is a beautiful film, but can be painful to watch.  But to feel pain or any extreme emotion, then the director has done her job.  At over 2 hours, it didn't feel it unusually lengthy, because one becomes engrossed in the telling of a man so tormented by guilt over his wife's death.  The story takes place in Germany, but for the latter part, the setting is Japan, with beautiful scenery, especially the cherry blossom trees.It begins where a woman discovers her husband has a terminal illness and she encourages a visit to be with their children, two who live in Germany, and one in Tokyo.  And immediately upon their arrival, we learn how disconnected they are to the children who don't go out of their way for them.  You can feel this tension, discomfort, unsettling atmosphere.  Suprisingly, it is the wife who has departed this world.  Her husband learns how she had desires, dreams, and a passion for Japan and Butoh dancing, dancing in white body makeup, slow movements, playful or grotesque imagery.What follows after this death is the sad part, how an elderly man has succumbed to abnormalities in grief or dealing with guilt.  It is painful to watch the odd behavior, the lonliness, coldness from family, the indignities, but beautiful to see how his quest evolves, and a endearing friendship with a street performer.Casing Elmar Wepper as Rudi was a brilliant move.  How much can you read on this man's face, the body language. His acting was wonderful, so very real.Doris Dorrie is one of Germany's important female directors.  I would encourage one to see two brothers journey inEnlightenment GuaranteedorAm I Beautiful?.  However, surprising flop to me was Doris Dorrie'sMen.  ......Rizzo\",\n",
       "  'As a poet, I was so moved by this film I could hardly breathe.  This is what cinema as art is all about--catharsis.  I am quite surprised other reviewers have not mentioned the quintessential role of the young woman playing the mysterious Japanese dancer, for she is the real center of the story.  There are so many other things I could say, but I am still \"in the movie\" as it were.  Simply A GREAT WORK OF ART!',\n",
       "  \"At the core of `Cherry Blossoms' is a sincere portrait of loss and the desire to reconnect with loved ones we feel as though we've never truly connected with.  It's hard to describe this film without giving away a very key plot point that is heavily disguised in the product description, so I'm struggling with how to really review this film.  I don't want to spoil anything for anyone, so being vague is the name of the game, which is hard for me.This is going to be a short review, apparently.`Cherry Blossoms' tells the story of an elderly couple who are trying, on the outset of the film, to connect with their scattered children.  Trudi has learned some health news supposedly regarding her husband and so, without a word on the subject, she persuades him to visit their three children.  It is apparent that their children don't have time for them, don't want to make time for them and quite frankly don't like spending time with them.  Then something tragic happens and the film attempts to depict loss in a unique way.  I feel like I can't say much more on the subject.As much as I respect some of the choices made here, and as much as I really adore the performance by Elmar Wepper, I found too many nagging details here that make this fall short in my eyes.  The depiction of the children in particular is beyond off-putting.  They are all ungrateful, spoiled, selfish, heartless brats and I can't fathom how they got to where they are.  I never in my life wanted to smack so many people, and for pointless and rather stupid things.  The relationship that forms between Rudi and a street performer is strange and doesn't really add to the weight of the film's themes.  It actually takes away from them because it is, in a sense, distracting, especially once he starts getting personally invested with her and her situation.  It took away from what the film should have been about.Alas, it has its moments and Wepper really is sensational (he reminds me in a way of Tom Wilkinson), but the film gets derailed in the second half, right when it should have been building a stronger investment.\",\n",
       "  \"Haven't seen the film to date; however, this was purchased for a dear friend in New York City! Happy Birthday Kathleen!\",\n",
       "  \"of a widower who loses his way, when this came out, my mom had just passed in 09 and gave it to my dad, he ultimately visits his son and some ladies of the evening in Japan but it says a lot along the lines of when you lose it all, there's another thing waiting.\",\n",
       "  'Cherry Blossoms is an oddly absorbing film. The story is presented in two parts: The first half takes place in Germany and focuses on the inter-generational tension resulting from a visit of the patents (Rudi and Trudi) to see their grown children, who are too busy and do not want to be bothered. In the midst of their visit, Trudi unexpectedly dies in her sleep and Rudi is devastated (not so much out of love as out of need: Rrudi is a rather self-absorbed and selfish person). This part of the film is entirely too long and could easily be cut in half (but suffer through it. The second half is a gem). The second half, which takes place in Tokyo after Trudi dies, focuses on two people: Rudi and a young homeless girl who practices modern Japanese dance in the park in order to communicate with her dead mother. This is where Rudi begins his journey of self-discovery from his self-adsorbed personage into a more spiritual relationship with his dead wife.  The Japanese scenery brings the spiritual themes into sharp focus. Cherry Blossoms has an unexpectedly strong emotional punch.',\n",
       "  'Andrew Sarris (film critic of the New York Observer) called this the first \"great\" film of 2009 and it is hard to disagree. Although it is a German film, it is infused with an Asian, particularly a Japanese point of view.  Central to the film is the Butoh dance which was developed as an abstract form of modern dance. It meant originally - dance of darkness. When first performed, the dance was a subversive art form but today it resembles expressionist modern dance - possibly influenced by the traditional Noh technique.In content and in form, the film is a poem of love.  When an elderly wife realizes her husband has only a short time to live, she keeps the information a secret but tries to get him involved with visiting the children (after a long absence) and beginning an adventure, completing the things he wanted to do most but left undone.  It turns out that the wife dies first, unexpectedly. This momentous event causes the husband to re-examine his life and his relationships and to travel to Japan which his wife always wanted to do. And so he walks in his love\\'s path and in doing so eventually become totally united with her soul.The film is influenced by the well recognized Japanese film master Ozu - particularly his \"Tokyo Story\" - but I would say it ends on a more sublime note.  In every way, the symbol of the \"cherry blossom\" which blooms for just a short period of time but is exceptionally beautiful when it does, is the hidden meaning of the story.',\n",
       "  'My Top 10 Film List seems to get a little more expansive each year, but CHERRY BLOSSOMS is definitely on it. It is profound in its simplicity. The Plot: Wife (Hannelore Elsner) discovers that her husband (Elmar Wepper) of many years is dying. He doesn\\'t know it & she doesn\\'t tell him. She manages to arrange a trip with their adult chirldren living in Berlin, although he would prefer to stay home. The children aren\\'t informed about his condition. Wife dies unexpectedly. Husband is lost without her. He goes to visit son Karl who lives in Tokyo. Father hooks up with a young dancer. Karl assumes the worst.Those are the bare bones.What we learn about the relationships is where the more meaningful elements are revealed.For one thing, we learn that the wife has a more or less hidden love of the Japanese performance/dance called Butoh (boo-toe). It is not clear how this transpired since, until recently, Butoh was not well known outside Japan. An understanding of Butoh is really helpful when viewing CHERRY BLOSSOMS, but not absolutely necessary. Key elements are illustrated by Tadashi Endo in a scene set in Berlin where the dancer is performing. The girl (Aya Irizuki) in Japan (who is rehearsing outdoors a performance involving a pink telephone with a long cord) is a dedicated Butoh performer as well.The colors of pink, green & white are found everywhere in the movie, but subtly increase in intensity when the husband goes to Japan. I think I became aware of this only towards the end of the film, but when I watched the film again it was much more apparent. Naturally this represents the colors associated with \"Cherry Blossom Time\"--a sort of national event in Japan. I think the green symbolizes the leaves & the pink & white the flower. I also think white symbolizes death. It\\'s interesting how this color scheme is naturally enhanced in Japan, in the neon lights of Tokyo, in the food, and the kimonos quests all wear in an informal hotel near Mt. Fuji.As for Butoh, it emerged as a performance art in post-WWII Japan, partially as a reaction to the the restriction imposed on dancers by the traditional Nh. There are 2 main types of Butoh. One is the basically non-movement variety, and the other that relies on agility and at least some familiarity with traditional dance, even ballet. The images portrayed are more often than not, visceral themes of death, blood--and eventual trandscendece. The artists are almost nude (with body paint) in many scenes. Elements of lighting & set are important & reflect post-WWI German expressionism. I believe it has influenced performers like Marilyn Manson, Madonna & others, and films like The Cell. It is distictly surrealistic.When the wide goes to the Berlin performance, she tries to coach her husband, but he will not go. Instead he waits outside the theatre, staring at the walls with artistic graffeti. Clearly, he is a man set in ways, resistant to change. Be that as it may, that evening he watches as his wife begins to dance, and she finally gets him to do some movements with her. This scene was powerful because it showed just how devoted he was to her.Their children don\\'t undertand them, particularly him. There is residual resentment against him resulting from his rather aloof parenting. They resented that their mother was so solicitous In fact there is a strong suggestion that the lone daughter is a Lesbian, carrying on light-hearted dalliance with her sister-in-law (who is the only member of the immediate family who seems sympathetic to either parent.) With the death of their mother in Berlin, they don\\'t know what to do with their father. He solves their dilemma by suddenly going to Tokyo to vistit the single son who lives there.The father goes basically unannounced & definitely not invited. He takes a single suitcase with him. Among the few items in it are his wife\\'s (cherry blossom) kimono, her (green) sweater, skirt and...all the money he has cleaned out from his bank account.And here this review ends, I don\\'t want to give any more away.Well, two more things. The actress who plays the Butoh artist is absolutely wonderful. She appears to be a trained dancer & acts a messenger from the world of the living to the realm of the dead.The sequence in Japan has a startling & perfectly cathartic conclusion.Dancing Into Darkness: Butoh, Zen, and JapanKazuo Ohno\\'s World: from without & withinHijikata Tatsumi and Ohno Kazuo (Routledge Performance Practitioners)The Body Speaks: Performance and ExpressionTowards the Bowels of the Earth: Butoh Writhing in PerspectivesOf Another World: Dancing Between Dream and RealityThe Art of Stillness: The Theater Practice of Tadashi Suzuki',\n",
       "  'One of the most accomplished, beautiful, transcendent movies I\\'ve seen in the last decade:  a German family\\'s relationship to Japan.  It hovers delicately around the central spiritual meanings of both Buddhism and Christianity, without mentioning either.  Cherry Blossoms is about love, love between husband and wife, between the West and East.  A movie about tolerance and forgiveness too.The director Doris Dorrie has traversed this territory before somewhat in her previous movie \"Enlightenment Guaranteed\".I believe in life after death, and this movie celebrates that belief with great sublimity and joy.Dancing too is a core element in the structure of the story.  In addition, Dorrie has chosen the way to a music soundtrack which again melds the East and West, using little known sources such as the exquisite Japanese acoustic group of Shunsuke Mizuno.A great and moving film, I give it my highest recommendation.  A movie to renew what is meaningful to your life.',\n",
       "  \"After she learns of his terminal illness, Trudi convinces her husband Rudi to leave their rural Bavarian home and visit their far flung children.  The film leads us slowly through lanes of mourning and regret as Trudi and Rudi discover how alienated they are from their children. Then, in a twist of fate, Trudi dies on the trip.  Her loss awakens Rudi to aspects of his wife's life that she had suppressed to please him.  Making the journey to Japan that she wanted and exploring the artistry of Butoh dancing, which she loved, he is poignantly connected to her at last.  An incredible film.\",\n",
       "  \"Oh my goodness what a wonderful story about life, love and loss.  A German woman named Trudi, knows her husband, Rudi, is going to die but does not disclose this information to him.  She takes him on a trip to Berlin to visit two of their three children. The children can barely stand to be around their elderly parents or have time for them. Only the daughter's female lover seems interested in them at all. They then go on to the sea where the elderly wife sadly dies in her sleep. The grief stricken husband Rudi decides to go and visit his third adult child in Japan, a place his wife had longed to visit. He stays in Tokyo with his semi-alcoholic, workaholic son who has no time or patience for his father either and can't wait for him to leave. Seeking distraction from his grief Rudi meets an 18 year old street performer, Butoh dancer named Yu in a cherry blossom filled park when he explores Tokyo. He strikes up a poetical and poignant relationship with her. Yu is working on her own grief issues after her mother's death a year before. She is the only person in the movie who truly has time for and understanding of Rudi.  This movie has a lot of emotional depth and is definitely melancholy and sentimental as it touches on mourning and regret. Hidden in this movie there are also moments of joyfulness and a lot of exploration of what it means to truly touch and be touched by another person. The pacing is slow like Butoh dancing itself and the movie slowly opens like the vulnerable petal of a perfect cherry blossom. This is now one of my new, favorite Japanese movies even though it is actually a German movie.  I loved it and I recommend it for those wanting to go on a soul searching journey that may leave you in tears in parts especially if you have suffered profound losses in your own life. Everything in life is about impermanence and this movie is a lesson in seeking out the elegant even in the mundane and embracing life. The acting is spot on and the cinematography wonderful. 5 Stars!!!\",\n",
       "  'As the story opens, we meet Rudi and Trudi, an older couple living in Bavaria.  Rudy is stoic and undemonstrative, content to go to his dull job everyday while Trudi harbors a secret wish to see Japan, yet they are as close as two cabbage rolls on a plate.  When she learns that he is dying, she arranges a trip to visit their children, but the kids are too busy to be bothered with them.This is a remarkable film about life and death and devotion.  It moves slowly and gently and allows us to get to know the couple and their self-absorbed children.  It deals with love and fulfilling one\\'s dream and gave me a lot to think about.  The story goes from Germany to Japan and is in German with English subtitles and much spoken English in the second half.The DVD cover calls this movie, \"sublime,\" and I agree.  If you\\'ve experienced love and loss, this movie will touch you deeply.  Highly recommended.',\n",
       "  'Seems one viewer thought this would be an action movie (LOL)... Uh-huh... Cherry Blossoms is maybe the title of a kung-fu flick? (LMAO). No!It is a loving and systematic look at the dynamics of a family of five, what they mean to each other, and the harvest of their individual life choices. The parents are an elderly couple with three grown kids - one girl and two boys. The couple is so close, they are separated by just one letter (i.e. Rudi and Trudi). They live very simply in an alpine area of Bavaria where he is a waste management official, while his wife is the doting hausfrau. Her favorite son, Karl (\"Karli\"), is a financier who lives in Tokyo. The other two live in Berlin.When the film opens, Trudi is told by the doctors that her husband has terminal cancer. She decides not to tell him, preferring instead to take him out of his routine and visit the kids, and go for a vacation at the Baltic seaside. She is adventurous and has an inquisitive mind, while he is cocooned in his predictably routine life. They live in a chalet with gingerbread staircase and antlers on the wall. While at the beach he tells her he wants to go back home. He cannot understand her fascination with Japan or the strange dance form called Butoh (the shadow dance of the soul). Unexpectedly, she dies at the beach [don\\'t worry, this film is about the soul, not plot].The kids and the daughter\\'s female lover meet their dad at the beach and remember Trudi. Interestingly the parents have expressed that they no longer know their kids, and vice versa. It turns out that the girl\\'s lover \"gets\" Rudi, unlike his kids, spending a lot of time showing him around Berlin.After visiting the kids one last time in Berlin, Rudi takes out all his money and goes to visit his uptight, stressed out son Karl in Tokyo, a jolting contrast to the bucolic surroundings of rural Bavaria. And there the life-changing events begin, as he meets an 18 year old homeless girl who dances Butoh in the park amid the cherry blossoms. The film becomes more beautiful with every subsequent viewing, and has a warmth we don\\'t usually associate with Germans. Gorgeous photography, lovely music and superb actors. One of my top ten of all time. An absolute masterpiece.WARNING: Not for action film buffs (LMAO).',\n",
       "  \"I don't really want to spoil the film by revealing the plot, so I just want to say what I saw and felt in this film, which, to me, is the sublime in subtle films.I've hardly given 5 stars with my reviews but this time I will, because this is an absolutely beautiful film, and one of the best European (German) films I've ever seen, but also one of the saddest films too. I really can't find the right words to describe it, but this film definitely left me something huge in my chest, and every time I think of this film I feel some tightness in it, and I have to take a few sighs to ease it.Five best words that might describe this film for me are: love, sadness, agony, beauty... and Japan. If you like any of these elements in films and are a fan of European films, I can certainly recomment this film to you! It will appeal to emotion and to reason.Hope this helps,\",\n",
       "  \"I loved this film.  Normally I say 'movie' but this truly is a masterpiece film.  It is about a happily married older couple.  The wife finds out that the husband is dying (no spoiler here, it's on the box) and she ends up not telling him, trying to hold on to their normal routine and to visit their (selfish) children.  Well, she ends up dying and he finally starts to really consider her, his wife.  He wants to be closer to her, and to answer an important question...where is she now?  While the film doesn't go into God and so forth, it reaches toward traditional Japanese beliefs, dance, expression...and Mt. Fuji.Be sure to watch this when you have stillness in your home.  It's first viewing is to be savored, even if you have to put off watching it for a few days.  I watched it on Netflix instant..with my kids hollering in the background (I used a headset and watched it on my p.c.) and jumping around while they played Wii.  Well, I wish I had watched it in my living room, with a glass of wine, my husband and the flatscreen!!  This movie takes you there, to the feelings of this wife, then of this man.  I couldn't help but think more couples should watch this, to avoid the feelings of 'too little too late'.  I know my hubby and I plan to travel some day, I hope we make it :)Watch this movie, it's a beautiful film with layers that you peel away slowly as you watch and long afterward.\",\n",
       "  \"'Cherry Blossoms' is a quiet film that sneaks into your heart and is so unpredictable in interesting ways.  This film shows us the cultural differences between Japanese and German lives.  This is a story of Trudi and Rudi, a Bavarian couple, and their grown children who have grown apart and find little time for their parents.Trudi is called into their physician's office to be told that Rudi has a terminal disease, and she is asked if Rudi should be told. She does not respond, but we know her decision is 'no'. She is advised he has some time and a trip of their lifetime might be a good choice. Right away my hackles rose, how unethical- but as the film moves on I forgot this ethical lapse and fell into the story.  Trudi talks hard working Rudi into visiting their two children in Berlin. Even though she would much prefer to visit their son, Karl in Japan. Trudi has had a life long yearning to study the Japanese dance, Butoh and to visit Mt. Fuji. But,l she has devoted her life to her husband and her children. Karl, it seems was her favorite and the other children lived with this knowledge.  Off they go to Berlin instead, to find their children immersed in their own lives with no time for them. It is the lover of one of the children who makes the most time for them, and begins to understand Trudi as a woman not only a mother. Complications arise and soon Rudi finds that the woman he called his wife was also someone who had other interests. He visits Karl in Tokyo and once again it is someone outside the family who spends time with Rudi and understands the grief that has enveloped him. A young girl develops a friendship with him, and it is she who has studied Butho dancing and shows Rudi his expressive, artistic side.The German filmmaker, Doris D&ouml;rrie has made a marvelous emotionally full film about this German couple.  Trudi played by Hannelore Eisner and Rudi, played by Elmer Wrapper, grow on us. We can feel their bonds and the family issues; their children with busy lives without time for them. The title of the film, Cherry Blossoms, takes it name from the Tokyo blooms, that bloom for just a short time. We find that Rudi transforms and that the life he led with his wife, Trudi was indeed a special one, and in the end it is those we love that make our lives what they are.A lovely film about love, life and death. The Japanese dance Butoh brings a special expression into this film that will resonate for a long time. The film is a travelogue in part and we get to visit the exquisite countries of Germany and Japan.Highly Recommended.  prisrob 08-02-09Where Do We Go From Here?\",\n",
       "  \"I don't want to reveal the plot...just want to encourage people to see this film.  It is amazing in so many ways.  First, it is visually spectacular.  The opening scenes in the sweet little Bavarian village are wonderful.  Then...Tokyo, which is mostly frightening...and finally Mt.Fuji, which is as lovely as anyone could imagine.The story is wonderful.  It centers on a very ordinary, middle aged man who likes to do everything the same way, every day and his wife who would love to visit Japan but never does.  The family dynamics are at times hard to watch but they are unfortunately quite realistic.  The film shows the ordinariness of these well ordered, sensible, middle class German people and the extraordinary magical loveliness of a young girl who dances in the park during the day, in full costume, and who sleeps in a tent at night.  The girl gives the man the love and kindness and understanding that his children don't.The cast is perfect.  The man, who is not the type to show his feelings, nonetheless is very moving.  The wife is quite beautiful, even in her older years.  The young Japanese dancer will win your heart...she is extraordinary.It's hard to describe the emotional impact that this film has.  I found it amazing...not just  by showing the depth of sorrow and grief of life but also the incredible beauty that it holds.  The closing scenes at Mt. Fuji are truly memorable...especially of the couple dancing on the beach...wow!  I highly recommend it.\",\n",
       "  'When her husband is diagnosed with a terminal illness, a German woman named Trudi decides it\\'s time the both of them paid a long overdue visit to their adult children - two of whom live in Berlin and one in Japan.  The catch is that the husband, Rudi, doesn\\'t even know he\\'s sick and neither do the kids.  Thus, Trudi must live with this horrible secret while putting on a brave face for those around her.  But then a different, wholly unforeseen tragedy strikes the family and the movie heads off into an entirely new and utterly unanticipated direction from where we thought it was going.A German movie set largely in Japan, \"Cherry Blossoms\" is a beautiful and heartbreaking film about living for the moment and of not putting off till tomorrow what you can do today.  It\\'s also marvelously perceptive about the dynamics of parent/child relationships, especially when, as is true in this case, the parents are viewed by their self-absorbed offspring more as burdens to be endured than blessings to be cherished.  The irony is that Rudi and Trudi have more in common with - and indeed are treated better by - many of the strangers and casual acquaintances they come in contact with than they are by their own children.But the movie is also an examination of marriage and of how partners can become so entwined with one another as a couple that they lose their identities as individuals, missing out on the dreams and goals they had for their lives when they were still young and unattached.  This is certainly the case for Trudi, who has harbored a lifelong desire to take up Japanese dancing, a desire that Rudi, in his selfish indifference, has pretty much squelched in her for the duration of their marriage.  Such a realization of lost opportunities can lead to regrets, recriminations and despair at the end of the road, yet in the case of Rudi and Trudi, one learns that lesson a little too late - and the other just in the nick of time.Elmer Wepper and Hannelore Elsner are magnificent as the aged couple, superbly capturing the deep-seated but often unspoken love that each spouse has for the other.  A fine supporting cast, led by Maximilian Bruckner as one of their sons and Aya Irizuki as a young street artist who befriends Rudi in his time of greatest need, adds to the movie`s richness.  Another crucial element in the emotional force of the movie is the richly elegiac score by Claus Bantzer.The glory of this exquisitely realized and profoundly moving film is its willingness to grapple with some truly major issues - of life and death, of sorrow and loss, of filial and marital relationships - without getting heavy-handed and preachy about it in the process.  Every moment in this film feels real and unforced, yet the movie itself has the minutely worked-out grace and precision of Japanese performance art (which we see quite a bit of throughout the course of the film).  In fact, near the end, there is a fantasy dance sequence that is, quite frankly, one of the most utterly spellbinding and breathtaking scenes I`ve come across in ages.Masterfully directed by Doris Dorrie, \"Cherry Blossoms\" is a lyrical and unforgettable work that takes its place among the truly outstanding films of recent times.',\n",
       "  \"Safe to say, you've never seen a movie like this one. Best to read something about butoh first. Then be prepared to follow the journey of the film's central character from a dull, daily routine half way round the world to a deeply personal expression of grief far beyond the power of words.The cherry blossoms of the title, are the actual cherry blossoms that briefly bloom in Tokyo each spring, and they are a metaphor for the beautiful and all-too-brief course of a single human life. If the reviews for the film tend to gush, it's because, like butoh itself, what it has to say about life and death can surprise and move you far out of your own daily routine. Wonderful performances by Elmar Wepper and Aya Irizuki, and a lovely music track.\",\n",
       "  'One of the loveliest emotionally charged movies to enjoy and love. A rigid inflexible husband is made to see life differently by his wife. Though quiet and accepting of his ways, she harbors a fire inside her that cannot be quenched except with travel and dance.Sad and beautiful, it is a moving story of loving and accepting the people we love and telling them before it is too late that they are lovely and wonderful. If we allow ourselves we can learn from everyone we encounter.A beautiful story!',\n",
       "  \"I loved the story, the acting, the cinematography... everything, except, the subtitles... they were difficult to read (yellow) and when the characters switched to English (the common tongue between the Japanese girl and the German man for the last part of the movie), they didn't show at all... which as a hearing impaired viewer made it difficult to understand as they both spoke English with their respective accents!  I had to rewind and replay multiple times to catch what was said...But still, I loved the movie and recommend it, just want other buyers to be aware of potential difficulties if they are hard of hearing or have difficulty with subtitled movies to begin with.\"],\n",
       " ['I only gave it 4 stars..ONLY because I don\\'t like the short warm up in ever single segment..however, it\\'s not too much of a problem if you are doing them each on a single day..but for most like me who wants a long challanging workout, we like to do the whole entire thing, without having to do the warm up with each part. Kind of like how Cardio Explosion is..there is no fuss with chosing all segments, and having to fast forward each warmup. ;)Now I recently ordered the FIRM\\'s new \"Express System\", and I noticed that this workout is an introduction to how those might be..except more advanced. :) So I think this was made to have an idea of shorter intense workouts for their newest ones (which I have not yet received, but order is on its way). ;)As for the workout, not too hard, but more challanging then most of their newest \"pink FIRMS\". I\\'m glad because this one is sort of like their older ones (if only they would get rid of the warm ups when you choose to do (all 4) like I do. ;)All segments are nice and challanging..not as challanging as the new Cardio Explosion, but just enough. ;) The Cardio only segment is actually more killer (which is done by Emily). ;)ALL workouts went by fast...with FIRM videos (which I have been using for the past 15 years now, all have no boredom and is very famous for switching things up. This workout, you only need about 5-10lbs. I could use heavier, but like Cardio Explosion, some reps are fast, so you don\\'t go too heavy. Another thing that bugged me about this video, was that the bonus segment said you have to \"Download online\"...not sure why, and I\\'m guessing you have to become a member on their website..so that kind of peeved me off...it\\'s supposably another 10 min segment--but a \"total body one\"..I will update when I try to download it and let you know..other then that..not sure why it even showed up on the dvd...if it\\'s not even on there..>:(Most of all, I would also love a solid Abs-only segment, but then again, some moves in this workout DOES work your abs even tho you are not doing a solid lying down ab section (which for me anyway, I always feel more complete when having an option for just an ab section).Overall, grade A. Not A+ if they included the bonus ON the DVD, and not to have to go \"download\" on their website, and wishes you can bypass each warmup with each section when choosing to do all 4 workouts. Other then that, love this workout!!',\n",
       "  'The DVD contains 5 ten minute sections:Lean Leg DefinerFearless ArmsBikini Body BlazeABS-olute CoreBun BurnYou can play all or create a custom workout.  There are two differnt instructors Rebekah Sturkie and Emily Welsh, but only one per section.  I thought Rebekah Sturkie did overall a good job leading the workouts with cues, but I noticed a little problem with form.  She flexed her back when she did rows, and you are supossed to keep a straight back.  Emily Walsh\\'s workouts were so fast paced and not very many reps per move, so I had to rewind a few spots.  I like that each section has a mix of \"traditional\" moves like squats, lunges, push ups, and planks, but they added new twists.  They added intervals and isometric moves that burn a lot of calories.  They also incorprate moves that work your core and balance.  The short warm up for each section didn\\'t bother me like it did a previous reviewer, when I did all the sections togegher, so I think that could be personal choice.  I\\'m used to short warm-ups and cool downs per section from ten minute solution videos.  In fact, I like to add a longer yoga or pilates warm up and cool down, so I will be less sore the next day. Therefore, I actually recommend doing more than what\\'s on this DVD, if you do more than one section.  I think this DVD could help raise beginners to the next level on the target areas, but may not be enough on their own for intermediate exercisers.  I plan on doing all sections or adding them to other workouts.',\n",
       "  \"I like the workouts but I did notice that other people had the same problem that though I bought it brand new, not all of the sections play :( otherwise I would have given it 5 stars but for what I paid it's not worth to return it.\",\n",
       "  \"I have several firm videos and this one doesn't provide a &#34;really good&#34; workout.  It is great on the days where your energy is lacking and you want to do something.\",\n",
       "  \"The segments are too short to call each one a good workout individually. I do all 5 in one workout and I am worn out at the end. The disc let's you choose which order to play the segments, great option.\",\n",
       "  \"Real target toning. Each segment targets the specific area perfectly. You feel the burn and it makes you believe that after 10 workouts, you will really see a difference. I particularly love the lower body workouts. The only downside is that they move through the moves pretty quickly and since the workouts last 10mins; you don't really have a lot of time to learn the moves. However, you become more comfortable as you repeat workouts. In addition, this is consistent with The Firm programs. Calorie burn is good too.\",\n",
       "  'Great fat burners. You notice the results in a day or two.  although, always be careful, when your doing lunges, to modify your lunge exercises so you dont hurt your knees.  They do work and are only ten minute workout.  I like to do one workout at every break at work.',\n",
       "  \"Always can count on the firm for good, quick workouts you can do at home when you can't get to the gym.\",\n",
       "  \"I usually love the Firm but this one, although it has good workouts, is not what I thought it would be based on the description. It's great if you really do just use each 10-minute segment separately, but if you decide to do all of them for a longer workout, it's too much of the same. It's supposed to be focused on different body parts: Legs, arms, bikini body, absolute core and bun burn. I didn't really feel the arms workout was enough focused on the arms, and not sure what the bikini body is supposed to do. The Absolute core is supposed to be abs, but again, there's movements in that that are so similar to the other sections that it doesn't deliver the arms workout; my arms didn't get worked out much at all. In the end, it seems like it's all mostly squats, which the firm does too much of anyways (for my taste), so I'm not thrilled with it and probably won't use it unless I do just want a 10-minute workout.\",\n",
       "  \"Having 5 10-minute workout options is fantastic for days when you don't have much time or if you want to mix it up a bit each time. These 10-min videos are INTENSE, though, so beware! Bikini Body Blast is the hardest 10-minutes of working out I think I've ever done, but just keep telling yourself &#34;It's almost over, it's almost over&#34; Great workouts!\",\n",
       "  'A great way to get fit without spending 40 some odd minutes at a time. You can do 3 in short bursts, alternating 3 times a week. The item came faster than expected.'],\n",
       " ['I bought this product a while back and it works for me.  I have not had any problems yet.  The cord on this is a bit short though.',\n",
       "  'I needed a firewire cable that would hook up to laptop. This does the job.',\n",
       "  'It is long so I can plug it into the back of my camera and still set the camera on my computer desk.',\n",
       "  'Well some people call the connectors \"square\"...  This was a great value!  Saved us loads of $ compared to what is available (and heavily marked up) locally.',\n",
       "  \"There's not a lot to say about a cable, really, except that it worked perfectly as advertised so I'm giving it five stars.\",\n",
       "  'Got this to connect a Sony Handycam (DCR-H32 NTSC) to my iMac so that I can transfer my home movies from Mini DV to my computer.  Works just as it is supposed to and costs basically the price of cheap shipping.  The cable is just as pictured with a clear coat and metallic looking inner shield.  I admit I chose this one over others of similar price due to the look.  It kind of matches my iMac.  Call me vain...',\n",
       "  \"My version is actually a black cable. It works. Our Sony TRV19 camera won't record video anymore, so we got a new JVC everio HM200 HD camcorder, but needed to transfer the video from the sony miniDV tapes to the computer. That process only works with this cable type, not a USB cable. I'm half way through the tape transfers right now, working perfectly. Set the camera to the VCR setting (for playback) and imovie 09 finds it, rewinds the tape for you and imports everything perfectly. This cable saved 10 hrs of memories for us. Cheap and useful.\",\n",
       "  \"Truthfully, I was expecting the worst, since I paid so little, but I was pleasantly surprised!  Very happy with this product.  However... we upgraded computers and the new one doesn't have firewire.  Sadface...\",\n",
       "  \"It's a good cable for the price. Maybe the 99 cent store may have one too...not. Well, you never know what shows up there from time to time.\",\n",
       "  'I use it to connect my Kindle HD Fire to the HDMI of the TV.  I watched R.I.P.D. movie on the TV through the Kindle HD Fire.',\n",
       "  'My order was handled perfectly and arrived 2 days before the estimated date to receive same. The product is exactly as advertised and works perfectly. Great experience.'],\n",
       " ['This ram brought my old Dell Dimension 2400 up to it\\'s maximum allowed RAM.There seems to be a lot of disagreement out there about what the 2400 can handle, but for my machine, these chips fell right in and began working as if my machine came with them originally. (I bought the faster rated chips because of other upgrades I was about to make.)Of course I noticed some improvement in speed etc, but I had already been running with 1GB of slower RAM so I didn\\'t expect much of a change.HOWEVER! After adding a new Pentium 4 CPU running at 3.06ghz, I noticed a HUGE improvement. I also added a new Monitor, \"ASUS ML228H 22-Inch Ultra-Slim Widescreen LED Monitor,\" and with all that, my old Dell is amazing. I\\'m not a gamer, so playing the newest games isn\\'t important to me, but video is. After all these changes, at the very least, I\\'m getting a rock-steady 30 fps at YouTube and Hulu. Smooth perfect video from this fossil machine is a sight to behold.In addition, I installed a; \"Sparkle GeForce 8400GS 512 MB DDR3 PCI with Native HDMI Graphics Card SFPC84GS512U2LP.\" This GPU is amazing, it fits in my low-profile tower, works with the 2400s PCI slot, and makes a perfect upgrade for machines that are not \"PCI Express ready.\" It also provides a DVI and HDMI connection which boggles the eye with my new LCD Monitor.Needless to say, adding all this capability, has increased the demands on my system, which was one of my main reasons for increasing my available RAM. The Invidia card can also share available RAM, which makes it more important still.I highly recommend these chips to anybody upgrading an old Dell 2400, or similar \"old tech\" machine.',\n",
       "  \"I ordered two sets of VS2GBKit400C3 but what I got was four different sticks of Corsair XMS Platinum Series RAM that was mis-matched by version and latency speeds.  I contacted the seller and they offered to take it back (I had not opened it) with no restocking fee.  They agreed to let me try the four sticks they sent and to send them back at their expense if they did not work.  The four sticks worked OK so I have kept them.  However, it is a bad practice to send out a product other than what is ordered and I would not order from this firm again I don't think.  The RAM they sent is actually a higher quality RAM than what I ordered and it is no longer available for my machine.  I kept it because some of the sticks actually matched what I already had in my machine so I only needed to use two not four of the sticks.\",\n",
       "  \"I was a bit weary buying this RAM based upon the reviews.  When it arrived, the ram was poorly packed and sitting diagonally in the box.When I installed it, it worked just fine.  I ran each stick through several RAM check programs and no errors resulted.  My computer has a tremendous speed boost.It's not the fastest RAM as others have pointed out (timing is 3-4-4-8), but this a value product for a legacy computer,...  so if it works without errors you should be satisfied.\",\n",
       "  'Good Ram as always no issues what so ever and great warranty.  I have had great luck with corsair in five systems over a period of ten years and no failures.',\n",
       "  \"One SIMM DOA.  I had to send it back RMA to Corsair, on my dime, and then it's like 3 weeks to get new.\",\n",
       "  'Great memory, it works very good on my PC and I raise my windows vista rate from 4.2 to 4.8, in dual mode. so its a very good way to extend your computer lifetime.',\n",
       "  'The memory installed and worked as it was designed.  The transaction was also flawless.  If needed, I would purchase this memory kit again.',\n",
       "  'One of my older micro-ATX ASUS boards for the Athlon 64 x2 (2004/5) needed more memory. I assembled the hardware system from parts at the time and it uses a version of Fedora Core for the operating systems. This computer is used for modest batch processing of geophysical and satellite-derived data sets. The Corsair 2GB (2x1GB) DDR 400 MHz (PC 3200) Desktop Memory (VS2GBKIT400C3) works well with the hardware-software system and the processing performance is very acceptable.',\n",
       "  'Trying to breathe a little life into an old machine that was used box-stock (although box stock was pretty potent) for 7 years, i decide to max out my RAM among other upgrades. i put these in the primary channel and moved my old RAm to the secondary channel and they are working splendidly. A real bargain.',\n",
       "  'Needed to upgrade a much older PC and wanted the same memory as what was already in there. The Corsair memorywas the best at the time I purchased this particular PC (in 2004) and it worked very well. So I decided to purchase moreof the sme and it is working well now. It gave my old PC a little more horsepower (Pentium IV CPU) and I will be able to get a couple more years out of it now.',\n",
       "  \"My son also bought me this along with a 3.06ghz P4. We can't complain even it's used. Don't underestimate used items. My son says that this type of tech is so old that it worth more buying in this condition, it doesn't matter if it's used. Corsair is a big brand, it seems that they make good components. These RAM sticks are working properly.\",\n",
       "  'I got 2 x 2 Corsair DDR 400Mhx to fix an old PC I had at home, but not even a year have passed since I got the 4 ram modules and they are all dead. I tested all memory modules one by one using Memtest86 and they all shows errors at around 30% of the scan, and the PC bluescreens as soon as it boots up (if I use other RAM modules, the PC boots fine).Will never buy any other corsair product anymore',\n",
       "  'Brought this memory to upgrade an old system to be able to install win7/32.  The memory is woking great with no problems at all.',\n",
       "  'I like Corsair memory.  I paired these up with another 2 DIMMS I had installed previously.  No problems.  No problems.',\n",
       "  \"Awsome price on this 2GB RAM deal. Great product. Can't go wrong with more RAM. Good, cheap, easy upgrade to your desktop.\",\n",
       "  'This is simply good memory and it wont crash and burn like PNY memory does. If your considering a good, low density memory for a desktop..then this it. It performs like the big money brands..Kingston...Crucial..at about half the price. Best memory for the money on Amazon.',\n",
       "  'I got this to upgrade the memory in an older computer and it was perfect.  It was exactly what I expected to get and there was no compatibility issues.',\n",
       "  'The specifications for this memory kit specifically states \"2 X 1GB PC3200 400Mhz 184-pin Timing: 3-3-3-8\".Instead, the memory that I received is has a performance configuration of 3-4-4-8.I\\'ve tried this memory on two motherboards, both configured to automatically set memory speed according to the on-chip SPD (part of the DIMM that stores the module\\'s specifications to allow hardware auto-configuration).  In both cases the same memory specifications were reported.I knew that by buying CAS3 memory instead of CAS2 or CAS2.5 that I\\'d be sacrificing some performance, but this \"bait and switch\" has left me with slow memory that I would not have ordered if the proper specifications had been listed.If all you need is a lot of RAM, then this is a reasonable solution to your needs.But if you expect performance, don\\'t even think of buying this product.',\n",
       "  'I wanted to add more RAM to my ageing DELL server and found this for a bargain price at Amazon. After installing my PC runs at least 25% faster with no problems. It is definitely not a RAM with blazing speeds, but does the job for me and the Amazon price was the most competitive of them all and a deciding factor for me to buy it.',\n",
       "  'replaced the oem 256 x 2 memory rams with these 2 1gb ram memories. Easy to installe and my dell dimension  3000 recogmized it on the power up and i was done. Computer is night and day . Its a must do for anyone',\n",
       "  \"I've had this memory in my laptop for 2 years now and it's still working perfectly! Excellent product, great price!Highly recommended!I'm going to stick with Corsair for all my computer's memory!Fast shipping all the way to Hawaii!\",\n",
       "  \"It's Corsair! Got this for my parents computer. It seems that 128mb or memory just isn't enough anymore. It all installed well and not flaws. It's like they got a brand new computer.\",\n",
       "  'Received my replacement ram today and it was plug and play.Thank you for the fast turn around on the defective item.That is the first time in 25 years that I have ever receiveda defective item from you.Bill.',\n",
       "  \"I installed this memory about a month ago.I got it in the mail, and had this memory installed in less than ten minutes. My computer is almost four years old, and it recognized the new memory with no problems. I now have 2.5 gigs of memory. I've noticed a nice boost in performance. Nothing miraculous, but nice. The machine doesn't slow down as much as it did before, when more than one program is running, and my browsers are snappier. And that is the whole point of adding extra memory!I don't know what else to say. The memory installs easily;disconnect the power cord, slip the side off the computer, flip the end clips up, take out the old sticks, snap the new sticks into the slots in matched pairs, flip down the end clips, close her back up, and reconnect the power cord.[...]And yeah I know I've got a lot of 5 star reviews, but hey, if I can't find anything to ding a product for, I won't.As long as things meet my expectations, and they work, I'm fairly easy to please, LOL.And I have no connections with any company, or product, other than I purchased the product, just in case you're wondering:)\",\n",
       "  \"I ordered the advertised Corsair brand memory, but received Crucial brand memory in place of it. The vendor did not ask me if the substitution was okay. I have had to repeatedly RMA Crucial memory sticks over the years, due to unexplained failures, blue screens, sudden reboots, Etc., so I was not happy with this unexpected substitution by the vendor. I would have canceled the order, if given the opportunity. While both brands have lifetime warranties to the original owner, this was used memory that I received, not new. I don't know if Crucial will honor their warranty if the memory fails. Either way I would have to pay the return shipping to send the substituted brand back. I have been ordering tech products for over 30 years and cannot remember a vendor ever pulling a stunt like this one did. This is clearly a case of bait with a high quality brand and then switch shipping an inferior brand. I would never order any products from Nemix again.\",\n",
       "  \"Had this put into an old AMD Athlon 64 overclocked system. Works as expected and even overclocked almost to 10mhz extra. Don't be fooled by the non heat spreaders, these do perform well. Heat spreaders have also only been shown to provide average of extra 5% overclock over non heat spreaders. Decent price considering the market for these, got em at 80.\"],\n",
       " ['Instructions on applying shield began with recommending taking the battery out because application process complicated and difficult requiring fluids. This was confusing since Kindle Touch instructions warned never get the Kindle wet.',\n",
       "  \"I received one for the Kindle Touch 3G, but it is to big.  I'm not sure about the spraying required to install it.  I have a folding holder for the Kindle, so I don't think I need this anyway.\",\n",
       "  'The military shield is aptly named.  It is really tough and strong.  I have great confidence that it will not have to be replaced.  It provides the kind of protection that will give me peace of mind as I carry my kindle and use it in any environment.',\n",
       "  'I bought this for my daughter, she is an avid reader and he loves it.  I don;t know if she will ever read a book by any other way than a Kindle.',\n",
       "  \"I put an ArmorSuit MilitaryShield on my Kindle Touch a few months ago and I'm extremely pleased with it.  I'm always touching the screen to navigate around my Kindle, and I wanted something to protect my screen from fingerprints, scratches or other damage because I carry my Kindle in my purse much of the time.  The MilitaryShield does a great job! I followed the installation instructions very carefully and installing the screen protector went smoothly.  It fits perfectly. I was extra cautions and let my Kindle sit for 24 hours after installing the shield to be sure it was fully adhered and completely dry.  The shield has stayed smooth and perfect ever since; there are no bubbles or any other mars or imperfections on it that I can see, despite the fact my Kindle gets tossed around in my purse.  Fingerprints wipe off easily and the shield seems very durable.Note: I replaced a nice leather Kindle case with the ArmorSuit MilitaryShield screen protector and a Marware SportGrip Silicone Skin for my Kindle Touch because the leather case was somewhat heavy to hold and bulky in my purse.  The silicone skin and screen protector combination provides great protection, but the combo is lighter weight and more compact than a leather case.  I'm very happy with both purchases and definitely recommend them as a good alternative to a leather case.\",\n",
       "  \"Great product. Fits my kindle perfectly and has been protecting my kindle strong for several days now. I'd recommend this to anyone out there.\",\n",
       "  \"Lots of stuff in the box, cloth, solution, squeegee... OMG! I am gonna screw this up!Then I looked at the installation video. Nicely explained and easy to do. Check it at armorsuit.com. They didn't a a Kindle Touch specific video as of Dec 23rd, but other screen protector videos will show you how to do it.I will try to remember to update this review in 6-12 months as a lot of promises are made about the product. Getting it installed was easy.It is six months later and the protector is in good shape. Got a comment that the website is not up and the guy wouldn't buy it. I agree, as the box tells you to go to the website for instructions and to find the video.\",\n",
       "  \"What should have been an easy operation wasn't. I followed the instructions to no avail. I put it on, it looked horrible, and took it right off\",\n",
       "  \"The ArmorSuit is easy to apply to the kindle and you can tell it's great quality. The touch screen still functions normally after putting the screen protector on. I would recommend this product to others.\",\n",
       "  \"ArmorSuit screen protector was easy to apply to my Kindle Touch when following the simple and easy to understand instructions along with the cleaning cloth, cleaning solution and application squeegee which are included with the screen protector. After I allowed the recommended drying time I powered up my Kindle and I was pleased to see my screen view was crystal clear with no bubbles or blimishes. After several weeks of use I've noticed there are never any fingerprints and no scratches and I'm not that easy on it. There is a slight glare under certain conditions which does not really affect my reading. What a great product, well worth the small expense. Give it a try!\",\n",
       "  'This is the third one I bought. The first one was for the original Kindle e-reader, the second one for the first generation Kindle Fire and then finally for my new Kindle Fire HD. It keeps finger prints off the screen and protects against breakage if you accidentally drop the unit as well.',\n",
       "  'I especially like this protector as it helps when a little 18 month old grandson wants to touch the screen with his grubby, precious little fingers.  I have had it on my Kindle Fire for about 1 year with no problem.',\n",
       "  \"This product was easy to install, however I did manage to get some tiny pieces of lint under it. It's also durable and I'm very happy with it. Just be sure you're working on a super clean surface.\",\n",
       "  \"Excellent protection for the kindle screen. This product was also very easy to install. Definitely a worthwhile purchase. Buy it, you'll like it.\",\n",
       "  'The kindle is the greatest invention since books. It is easy to use and light and easy to carry. If you like to read, you should like the kindle. Bill LaMar',\n",
       "  \"Please make sure you watch THIS VIDEO before you order this thing.[...]This is a really thick screen protector and it's definitely too much for the Kindle. It's a nightmare to put on and there are much simpler, easier screen protectors out there.Oh, and did I mention you can't use your device for 24 hours after you put it on??Yeah.. look elsewhere...\"],\n",
       " [\"After watching a few videos on youtube on how to install, it worked 100%. Shipped in great packing and perfect condition. this came with the 3m 30LSE adhesive stickers along with it's stock protective screen protectors (front and back).My advice to you after my experience, please make sure you TURN OFF your iPad before opening your unit. Also make sure you don't touch any parts inside with metal tweezers, screwdrivers, etc. Don't make the same mistake I did. After putting everything back together, my back light failed/disable. I'm not sure if I temporary short-circut any capacitor but I did some research on google and was lucky to find out by rebooting my ipad, it fixed itself.my human error had nothing to do with this product, but just a friendly advice. Good Luck!\",\n",
       "  'screen does not fit correctly. it was cut too short. it works but is not the correct size for an ipad2.',\n",
       "  'I am sorry but this product is very misleading, I am looking for a replacement glass for the Ipad 2 and I did a search to land at this page. I went to this product page because it says \"by Apple\" which I am believing is the OEM replacment part just to find out that it is not so and there various sellers. How can Amazon mislead that this \"sold by Apple\" when it is not.',\n",
       "  'IMPORTANT: I have not tested how product is working, I will update my review shortly.Meanwhile I want to say that I have no idea why many buyers complain about it. The size of this screen is EXACT as original. There are no gaps (1-2 mm as they mention) between frame and the screen.The thickness is enough to have the same feeling as original one. I mention that because users said that when you touch the screen it goes down. I hardly imagine how hard I should press to make this screen bend.UPDATE: be careful, despite the protective cover screen was dirty in two places. Unfortunately I notice that after I assemble it :(',\n",
       "  \"I don't really know what else to say other than it works!  I mean it looks good and everything seems to work just fine.  And it sure beats the cracked out original.  It is just the bare glass and flex cable.  You will have to migrate the button at the bottom.  But I didn't find this to be be too hard.  In fact I thought it was harder getting the old one out.\",\n",
       "  \"This screen replacement is top notch! If you are thinking of replacing your screen make sure you understand all the risks before attempting to changing the screen out. However if you fell that this is the way to go then this is the screen for you, it comes well protected and even has a screen cover to protect the screen while you put the new on on. It is a little difficult to replace the screen if you don't know what you're doing, so make sure and watch a few videos before you attempt this.\",\n",
       "  \"I don't know if this is OEM or not, but I couldn't tell any difference from the original and this one. It was a perfect fit.\",\n",
       "  'This was exactly what was described and after repairing the device, you would never know it was dropped.  Thank you for offering the parts. Will definitely keep on favorites in the event it happens again',\n",
       "  \"I got this for my middle son as a surprise Christmas gift to repair his ipad 2. When I received this item in the mail I immediatly wrapped it in the Amazon box that it arrived in. When he opened it Christmas morning the glass was cracked and broken. He was so disapointed. We returned it under Amazon's excellent return policy for a full refund. They were out of stock on replacement screens.\",\n",
       "  'The digitizer is high quality, just be sure that you have the skills and patience to install this or it may be better to have it professionally done.',\n",
       "  \"It works, screen was shipped with enough packing material that it didnt break, and it was scratch free under the protective layers of plastic. Don't forget to remove the inside plastic before you seal it down!\",\n",
       "  'It feels a little on the cheap side and may have now and then some problems with the touch screen. I dont think this is oem but for the price i guess its ok.',\n",
       "  'It Work as if it were the original screen.  Would definitely order this product again!  I Would recommend it without reservation.',\n",
       "  \"This product is great. It was inexpensive and was easy to replace. The Ipad looks brand new. Couldn't ask for better.\",\n",
       "  'My screen was cracked , bought this and work out fantastic! Highly recommend and saves you for spending more money for some company tot do it for you!',\n",
       "  \"Ok, this glass is definitely the original ipad gorilla glass which is great but it looks like they are either factory rejects or grey market as the glass seemed to not have its final coating, seemed to be a 'stripe' across the screen you could see at only a slight angle.  Also, fingerprints stuck to this like mad...you could actually see the oil sitting on the glass very clearly.  Since it is obviously gorilla glass (the glass was solid to the touch, didn't have that soft 'give' the cheap copies have) but was unfinished (not having that protective coating)definitely leads me to believe these were either factory throw-aways someone snatched up or were taken then grey marketed.  Really up to each person but not worth it in the end in my opinion.\",\n",
       "  'OEM quality, worked perfect after installation too . . . . . . . . . . . . .',\n",
       "  'This was exactly what I was looking for. I read the other reviews, so I knew I needed the adhesive strips. The strips were  worthless, but that is in my other review. The glass arrived very quickly and was in perfect condition. There were no markings or \"grids\" on the glass. The part was in mint condition and fit perfectly. I have nothing but great things to say about this part. Make sure to watch the iPad replacement videos before trying this yourself. It was not difficult, but very time consuming. It took me almost 1.5 hours just to remove the old glass because the old glass was shattered from corner to corner.',\n",
       "  \"I bought this repair glass that includes the pre-cut adhesive strips.  I got the instructions and repair kit from iFixIt.  The process of repairing the glass was very tedious and in the end the iPad still worked and you can't tell that it was repaired.\",\n",
       "  'just work for my ipad 2. I have been used this one more than 5 month and there is not flaw I can tell so far.',\n",
       "  'I will update this after seeing how it performs in the long run to make sure there are no dead spots. It is nice that it comes with the pre-cut 3m adhesive tape, though. Be wary, as this is not an easy repair. Watch a video etc, to familiarize yourself with the process.',\n",
       "  'Worked great and was a wonderful replacement for the cracked one at home.  I have a nephew who keeps cracking his screen and the glass with digitizer works perfect.',\n",
       "  \"a little harder to change than all the videos show because my glass was shattered into tiny pieces or I woundnt have been changing it! after you get the old one cleaned up though this fit right in.  don't waste money on precut tape, it didn't fit anyway, just get some good double sticky tape and make your own.\",\n",
       "  \"Had to go upscale and replace with a more costly version due to poor digitizer strip and time constrains on the fix.  Waited too long to return item so shame on me.  Therefore I can't coment on the custoomer service just the laziness of the buyer\",\n",
       "  'I bought this to replace my cracked digitizer. It works and fits nicely. Nothing really to complain about here. Still works today !',\n",
       "  \"Had it installed professionally. Works perfect. Bought a case as well so I don't need to buy another one of these.\",\n",
       "  \"First, this is JUST THE GLASS.  not the plastic border, no button, no glue, no camera plate.  you will need to manually move all of those from the old shattered screen.Second this is not an original ipad 2 screen but a knockoff.  it is not gorilla glass as it flexes a LOT more than a real screen.  This gives the ipad2 a different feel as you can feel the glass flex when you push on the screen.  I would not trust any ipad repaired with this screen outside of an otter-box case.Finally, I received one with a manufacturing defect.  the inner touchscreen sensor array had a crack in it making the top 3/4 inch of the screen not responsive to any touches.  luckily after repairing 30 ipad 2's I have gotten in the habit of looking for this defect as it is very common of the knockoff screens to arrive damaged.If you know what you are doing and want a cheap fix just to sell your ipad off on ebay,  go for this screen.\",\n",
       "  \"Ok, so the iPad got the inevitable cracked screen. So I search for a replacement and this is what I got. Read the reviews and hoped I would get a good one.Of course I didn't, and you don't find this out until you spend lots of time getting all the glass shards out of your ipad and replacing components you cut etc etc. So after getting everything on there are dead lines all the way across north and south  on the right side of the digitizer.Please read tips for newbies:-Do yourself a favor go somewhere else.-If you must do it yourself, youtube and watch out for the wifi antenna to the right of the home button. It is glued to the digitizer.-Heat gun-Heat gun-Be patient and try to get the whole thing off without shattering.\",\n",
       "  \"This replacement glass is not OEM. It isn't smooth to the touch. It's actually kind of squeaky so we had to buy a protective cover for it to make it useable. It's hard to drag and swipe a touch screen that isn't smooth.\",\n",
       "  'This item works well as spare parts for the ipad 2. It replaces the screen easily when cracked. Useful to fix broken device.'],\n",
       " [\"If you want to use your old XBox 360 hard drive in your new XBox Slim, you need this. Getting the old drive out of it's case requires a little effort as you need a Torx 6 and Torx 10 driver to remove the screws... however once the drive is free from the old casing, it pops into this case with little effort and fits right into place in the slim.\",\n",
       "  \"This drive enclosure works as expected in my Xbox 360, however the build quality is a little flimsy. But now that the drive is in the Xbox, I don't really plan on taking it out, which makes the build quality less of an issue.\",\n",
       "  'easy to setup just put the hard drive in it snap it back together and there you go you saved yourself from being a fool',\n",
       "  \"THis worked awesome for me.  It saved me +$50 from buying another HDD.  I recently purchased the new slim 4GB xbox.  I proceeded to take apart the 120Gb HDD from my old fat 360, and then inserted it inside this case.  The fitting was perfect.  The slim xbox recognized my 120gb and i was rocking and rolling.  Can't go wrong with just a couple of bucks spent.\",\n",
       "  \"This is hell of a deal instead of paying the retail cost for the Microsoft 320gb xbox 360 slim hard drive. At $6 shipped and $45 for a hard drive, you can't beat that. Very easy to install and works just great. I've bought 3 of these so far. Would recommend.\",\n",
       "  'I bought this so I could put my other hard drive from my Xbox arcade into my slim and it worked',\n",
       "  \"The product came exactly as advertised and worked perfectly. Decent design, it's light and fit my hard drive just right.\",\n",
       "  'This case fits well in the slot for the HDD of the slim xbox360. No screws or anything like that, so all you have to do is put the HDD in and close the case and put it in. Easy as that.',\n",
       "  'Works perfect for utilizing your old 360 drives for the new slim models. No glue needed. Just snaps together and pops right into the console. The release pull tab works well.',\n",
       "  'This was easy to use product to migrate from the old Xbox 360s, to the newer slim Xbox 360 models and save all your files. You do need a Torx screwdriver to take apart the old Harddrive casing, but placing the new one inside this case is very easy as you just have to place the harddrive in, snap the case together and plug it in!'],\n",
       " ['This is way more than borrowing a cup of sugar from the the guy next door. I loved the thought of her Mon finding her Kindle. Too funny. Of course, not if it happens to me!',\n",
       "  'Very good and enjoyable read. And what an after dinner dessert. I recommend this book and will be reading part 1 and 2.',\n",
       "  'Each of the Sophy stories has been better than the last. This one really took it to a new level and left me hanging for Pole Position. In a word - AWESOME!!!',\n",
       "  \"I thought it couldn't be any better than the first or second. I was so wrong.A terrific story, which ends with the hottest scenes I've read in a long, long time.Please tell me Part Four really is &#8220;coming soon&#8221;.\",\n",
       "  \"Maybe if I had read the other two books I would feel differently, but this book really didn't hold my interest. So I'll leave it at that.\",\n",
       "  \"I've enjoyed this series so far, but this is definitely the best.  A very enjoyable read with fun and likeable characters which made this story very hot!  It's an evening every woman dreams about, that's for sure, with two hot men wanting her.  Hopefully Sophy will experience something new again, and a part four will be released soon.\",\n",
       "  'This is the first story I have read by this author. I really enjoyed it. I will have to go back and read the 1st two parts now! I will also be looking for part 4. Thank you for a delightful story.',\n",
       "  \"This was by far my favorite of the series so far.  I literally couldn't stop reading it and found it extremely erotic!\",\n",
       "  \"Dull in the extream. Did not even finish. Don't waist your time or money on this on. Even free its not worth it\",\n",
       "  \"Really enjoyed the book!! Makes u feel guilty that you're inside sophy's head. Take a look at the series and see for yourself.\",\n",
       "  \"This is my favorite book in the series.  The two men in this story are so different but can appreciate all that Sophy has to offer with reverence and passion.  The imagery of these 3 participants combining raw animalistic heat and commanding attention to detail, guarantees satisfaction for everyone.  Really know that there's no way you won't heighten your own sexual awareness after reading this.\",\n",
       "  'This is the third book in the series and they just keep getting better and better. Following Sophy in her sexual discoveries is exciting and entertaining. These stories also strike a connection to others who have similar fantasies. You Go Sophy. Bianca James is true to her feminine desires. Love it!',\n",
       "  \"I think this Sophy adventure was the best yet. Spophisticated and well written, I can't wait to see what Miss James comes up with next...\",\n",
       "  'What a good story. Where she takes herself further into her own fantasies every single time she is with a man. It was really awesome. Looking forward to reading more from this Author.',\n",
       "  'It just really seems that there could be so much more depth to these characters.  There has to be MORE to the story.',\n",
       "  'The first from this author and I was glad I chose this one. It was ell written very hot. The two male character s were hot and attentive. I am looking further to other books by the same author.',\n",
       "  \"I love the way you ease into the story bringing anticipation to an all time hi.  All three stories were fantastic and I can't wait for the next one.  Hmmmm I was to keep both then hotties.\",\n",
       "  \"I thought the premise was okay, but I was really irritated with the lack of protection in the sex. She's supposedly an educated woman--yet she has unprotected sex with an ex-con she's known three hours. Um, I don't buy it. Cover up, Buttercup. Prisoners carry all sorts of disease. Ain't no sense barebacking. So, that put me off...\"],\n",
       " ['Good story.  Needed better editing for incorrect grammer.',\n",
       "  'Never could get into the book.',\n",
       "  \"The is a fast paced book with lots of action, twists and turns. Not your usual picture of a retired working rottie, this ex cadaver dog, Bacon really is more interested in eating both food and furniture. He does come through when the need arises, to help solve the latest murders. Check outShakin' Bacon to follow the adventures.\",\n",
       "  \"Another good read.  Pull your legs up and escape into the doggy world and just enjoy the antics of J.J.  and Bacon..  I am definitely looking forward to Carol Ritkowski's next book.  Thank you. Carol for a pleasurable escape from the realities of our world.\",\n",
       "  'a fun read. if you are looking for something serious mystery this is not for you butif you want a laugh or two with adventure you will love this one.',\n",
       "  \"I thought this was going to be a dog story. After the first almost 90 pages, the dog &#34;Bacon&#34; didn't show up. Was very disappointed and gave us less than half way through the boo,.\",\n",
       "  \"How can any dog lover resist a novel extolling the virtues of their best friend....and yet acknowledging that maybe (?) they might need a little social adjustment from time to time?  Well written mystery with a great sense of humor coming through.  Don't we all need to have flexibility when dealing with our best friends?  This book has it!  Enjoy!\",\n",
       "  \"This is the 2nd book written by Carol Rutkowski (J.J. Carrington Capers) that I've read. Not a bad story, kept you wondering what J.J. was up to. It's a good book for young adults, or whoever likes short mysteries. As I mentioned in my 1st review, these stories remind me of the Nancy Drew books I grew up reading.\",\n",
       "  'These are okay stories about Bacon, but not enough of him. The mystery is decent, editing a little weak. Both the novels are at least worth a read. Next time hope for more dog. Wish our heroine would get off the ex husband  routine and on to real life, though.',\n",
       "  'I bought this because of the dog. Love dog mysteries and will keep looking for her books. Mystery is great with a little about dogs which I love.']]"
      ]
     },
     "execution_count": 53,
     "metadata": {},
     "output_type": "execute_result"
    }
   ],
   "source": [
    "product_review_list[:10]"
   ]
  },
  {
   "cell_type": "code",
   "execution_count": 54,
   "metadata": {},
   "outputs": [
    {
     "data": {
      "text/plain": [
       "[[\"depends how much swedish film, tv, crime novels you've experienced\",\n",
       "  'second-rate',\n",
       "  'This is a must watch.',\n",
       "  'Eyes glued on family while being a \"super\" cop',\n",
       "  'Wern at the Crotch',\n",
       "  'First-rate',\n",
       "  'katie',\n",
       "  'Good series',\n",
       "  'Scandinavian police procedural, episodes 1 to 3',\n",
       "  'Twists and Turns',\n",
       "  'Love series and setting, Gotland, Sweden.',\n",
       "  '3  stars- Beautiful, Atmospheric, worth seeing'],\n",
       " ['Beautiful, moving, emotional and endearing!',\n",
       "  'Cinema as pure poetry',\n",
       "  \"These blooms fade by film's end...\",\n",
       "  'Given as a Gift',\n",
       "  'touching saga',\n",
       "  'A Journy of Self-Discovery',\n",
       "  'Dance of Darkness...and Light',\n",
       "  'Song of Life, Dance of Shadows',\n",
       "  'Spiritual Cynosure:  A most religious movie, with specific faith',\n",
       "  'An incredible film',\n",
       "  'Soul Inspiring Masterpiece',\n",
       "  'Gentle, touching, remarkable',\n",
       "  'A Visual Tone Poem About the Meaning of Life - Brilliant!',\n",
       "  'Love, sadness, agony, beauty... and Japan',\n",
       "  'A beautiful movie that will move you and haunt your thoughts for long afterward.',\n",
       "  'Subtle Beauty of An Exquisite Film',\n",
       "  'Beautiful...deeply moving film',\n",
       "  'a work of art',\n",
       "  'Butoh . . .',\n",
       "  'Tell everyone who matters you love them....',\n",
       "  'Wonderful Movie... but'],\n",
       " ['Just like the old FIRMS..with a kick!',\n",
       "  'Target Toning hits the Target',\n",
       "  'DVD skips 3rd workout...',\n",
       "  'This one is ok',\n",
       "  'great workout',\n",
       "  'Real Target Toning',\n",
       "  'perfect, 10 minute, fat burning exercises',\n",
       "  'Good DVD',\n",
       "  'Not Exactly what I thought....',\n",
       "  'VERY challenging workous',\n",
       "  'Shape up in short time'],\n",
       " ['works fine',\n",
       "  'what I needed',\n",
       "  'Works with Canon HV30',\n",
       "  'Square Deal',\n",
       "  'Works as advertised',\n",
       "  'What a GREAT deal!',\n",
       "  'Works great, transferred miniDV tapes to imovie 09 for mac',\n",
       "  'good product...',\n",
       "  'A Good Cable',\n",
       "  'Kindle HD on TV connection',\n",
       "  'Fast shipping and early delivery'],\n",
       " ['WHAT A BOOST!!',\n",
       "  'Did Not Get What I Ordered But It Works and Is OK',\n",
       "  'Satisfied',\n",
       "  'Great Ram Company',\n",
       "  'DOA',\n",
       "  'Great memory',\n",
       "  'Corsair Memory VS2GBKIT400C3 2 GB PC3200 400MHz 184-Pin DDR Desktop Memory Kit',\n",
       "  'Corsair 2GB (2x1GB) DDR 400 MHz (PC 3200) Desktop Memory (VS2GBKIT400C3)',\n",
       "  'Lifetime warranty!',\n",
       "  'Pretty Decent Memory.',\n",
       "  'It works, used, but it works',\n",
       "  'Not even a year of use, and all 4 modules are dead',\n",
       "  'Good  Memory',\n",
       "  'Nice RAM',\n",
       "  'Great price on RAM',\n",
       "  'Very good memory..better than PNY',\n",
       "  'Corsair Memmory',\n",
       "  'Delivered memory slower than specified',\n",
       "  'Best bang for the buck',\n",
       "  'Easiest way to Speed up your PC',\n",
       "  'Still working perfectly! Highly recommended! Great product, great price!',\n",
       "  'Great Memory',\n",
       "  'Thank you',\n",
       "  'Works Great!',\n",
       "  'Baited and Switched',\n",
       "  'Works great, even overclocks around extra 10mhz'],\n",
       " ['Wet and complicated installation',\n",
       "  'TO HARD TO INSTALL',\n",
       "  'A Great Product',\n",
       "  'Excellent!!!',\n",
       "  'Excellent screen protector; fits Kindle Touch perfectly!',\n",
       "  'Great product, is as it should be',\n",
       "  'Great!',\n",
       "  'Hmm',\n",
       "  'Great screen protector',\n",
       "  'Great Protection',\n",
       "  'Awesome protection',\n",
       "  'SCREEN PROTECTOR',\n",
       "  'Armor Suit Military Shield for Kindle Touch',\n",
       "  'Protection',\n",
       "  'Kindle touch screen',\n",
       "  'SO much work, for nothing'],\n",
       " ['worked like a charm!',\n",
       "  'screen does not fit correctly. it was cut too short.',\n",
       "  'Misleading',\n",
       "  'exact size as original, looks and feels almost like original',\n",
       "  'It works!',\n",
       "  'Looks better than new!',\n",
       "  'Just right',\n",
       "  'ipad2 Digitizer',\n",
       "  'Cracked',\n",
       "  'Works like the original',\n",
       "  'works just fine',\n",
       "  'Its ok.',\n",
       "  'Just as expected!',\n",
       "  'Great',\n",
       "  'It worked out great!',\n",
       "  'Hmmm',\n",
       "  'A+',\n",
       "  'Perfect!',\n",
       "  'Excellent Repair of iPad 2',\n",
       "  'just work for my ipad 2. there is not flaw I can tell.',\n",
       "  'Works great so far',\n",
       "  'Great replacement!!!',\n",
       "  'saved lots of money',\n",
       "  \"didn't work for me\",\n",
       "  'Works',\n",
       "  'Worked great',\n",
       "  'Look closely when it arrives for defects, bare glass only.',\n",
       "  'NOT OEM, You will need to check for dead spots, Pain in the Rump',\n",
       "  'Not smooth to the touch',\n",
       "  'Spare Parts'],\n",
       " ['Does what it is supposed to...',\n",
       "  'Works well, build quality is not the best',\n",
       "  'Great for people who made costom xbox 360 hard drives',\n",
       "  'fits great on the slim 360..',\n",
       "  'Perfect item as described',\n",
       "  'New hard drive',\n",
       "  'Works great!',\n",
       "  'Great case',\n",
       "  'Does the job',\n",
       "  'Used this for a 20GB Hdd from the older generation Xbox 360s'],\n",
       " ['Borrowing from the neighbors',\n",
       "  'I recommend this book and this new author',\n",
       "  'The best one yet! Spicy & Hot! I want more ...',\n",
       "  'The best yet. Loved it!',\n",
       "  \"Really Wasn't For Me!!\",\n",
       "  'Two hot men, yes please!',\n",
       "  'Fantasy come true!',\n",
       "  'In a word...H O T!!!',\n",
       "  'waist of money',\n",
       "  'Great series!!',\n",
       "  'Muscles and Muscle Cars',\n",
       "  'So Hot!',\n",
       "  'Super sexy',\n",
       "  'Good',\n",
       "  'Hot, hot, hot but over too soon',\n",
       "  'Triple delight',\n",
       "  'Another great one',\n",
       "  'not happy with the risk'],\n",
       " ['Good plot',\n",
       "  'Two Stars',\n",
       "  'Female wannabe detective, large laid back dog and mysteries to solve. . .',\n",
       "  'Lots of fun to read. I enjoyed the antics of J.J. and Bacon.',\n",
       "  'Fun',\n",
       "  \"Makin' Bacon\",\n",
       "  'It has an awesome dog character in it!',\n",
       "  'Cute detective story',\n",
       "  'Decent read',\n",
       "  'Very cute mystery!']]"
      ]
     },
     "execution_count": 54,
     "metadata": {},
     "output_type": "execute_result"
    }
   ],
   "source": [
    "product_summary_list[:10]"
   ]
  },
  {
   "cell_type": "code",
   "execution_count": 55,
   "metadata": {},
   "outputs": [
    {
     "data": {
      "text/plain": [
       "['07-01-2014',\n",
       " '01-08-2014',\n",
       " '07-11-2014',\n",
       " '12-02-2013',\n",
       " '02-04-2014',\n",
       " '02-11-2013',\n",
       " '06-12-2014',\n",
       " '04-18-2014',\n",
       " '01-11-2014',\n",
       " '07-17-2014']"
      ]
     },
     "execution_count": 55,
     "metadata": {},
     "output_type": "execute_result"
    }
   ],
   "source": [
    "product_date_list[:10]"
   ]
  },
  {
   "cell_type": "markdown",
   "metadata": {
    "id": "MD-LSS76iqLA"
   },
   "source": [
    "-------------------------------------"
   ]
  },
  {
   "cell_type": "markdown",
   "metadata": {},
   "source": [
    "<div class=\"alert alert-block alert-info\">\n",
    "    \n",
    "### 4.3. Convert the extracted data to Dataframe <a class=\"anchor\" name=\"test_xml\"></a>"
   ]
  },
  {
   "cell_type": "markdown",
   "metadata": {},
   "source": [
    "In this step, we will use pandas to convert our extracted result to a dataframe for write to CSV file."
   ]
  },
  {
   "cell_type": "code",
   "execution_count": 57,
   "metadata": {},
   "outputs": [],
   "source": [
    "df_output = pd.DataFrame({'PID':product_id_list,'product_review':product_review_list, \n",
    "                       'review_summary':product_summary_list,\n",
    "                      'latest_review_date':product_date_list}) "
   ]
  },
  {
   "cell_type": "code",
   "execution_count": 58,
   "metadata": {},
   "outputs": [
    {
     "data": {
      "text/html": [
       "<div>\n",
       "<style scoped>\n",
       "    .dataframe tbody tr th:only-of-type {\n",
       "        vertical-align: middle;\n",
       "    }\n",
       "\n",
       "    .dataframe tbody tr th {\n",
       "        vertical-align: top;\n",
       "    }\n",
       "\n",
       "    .dataframe thead th {\n",
       "        text-align: right;\n",
       "    }\n",
       "</style>\n",
       "<table border=\"1\" class=\"dataframe\">\n",
       "  <thead>\n",
       "    <tr style=\"text-align: right;\">\n",
       "      <th></th>\n",
       "      <th>PID</th>\n",
       "      <th>product_review</th>\n",
       "      <th>review_summary</th>\n",
       "      <th>latest_review_date</th>\n",
       "    </tr>\n",
       "  </thead>\n",
       "  <tbody>\n",
       "    <tr>\n",
       "      <th>0</th>\n",
       "      <td>B006T0R1WU</td>\n",
       "      <td>[if you are someone like me who has ingested j...</td>\n",
       "      <td>[depends how much swedish film, tv, crime nove...</td>\n",
       "      <td>07-01-2014</td>\n",
       "    </tr>\n",
       "    <tr>\n",
       "      <th>1</th>\n",
       "      <td>B001Y44EBW</td>\n",
       "      <td>[Cherry Blossoms (2008) film by Doris Dorrie i...</td>\n",
       "      <td>[Beautiful, moving, emotional and endearing!, ...</td>\n",
       "      <td>01-08-2014</td>\n",
       "    </tr>\n",
       "    <tr>\n",
       "      <th>2</th>\n",
       "      <td>B003VADRZ6</td>\n",
       "      <td>[I only gave it 4 stars..ONLY because I don't ...</td>\n",
       "      <td>[Just like the old FIRMS..with a kick!, Target...</td>\n",
       "      <td>07-11-2014</td>\n",
       "    </tr>\n",
       "    <tr>\n",
       "      <th>3</th>\n",
       "      <td>B000SMZ9E2</td>\n",
       "      <td>[I bought this product a while back and it wor...</td>\n",
       "      <td>[works fine, what I needed, Works with Canon H...</td>\n",
       "      <td>12-02-2013</td>\n",
       "    </tr>\n",
       "    <tr>\n",
       "      <th>4</th>\n",
       "      <td>B0009W7OJO</td>\n",
       "      <td>[This ram brought my old Dell Dimension 2400 u...</td>\n",
       "      <td>[WHAT A BOOST!!, Did Not Get What I Ordered Bu...</td>\n",
       "      <td>02-04-2014</td>\n",
       "    </tr>\n",
       "    <tr>\n",
       "      <th>...</th>\n",
       "      <td>...</td>\n",
       "      <td>...</td>\n",
       "      <td>...</td>\n",
       "      <td>...</td>\n",
       "    </tr>\n",
       "    <tr>\n",
       "      <th>495</th>\n",
       "      <td>B000UD6E48</td>\n",
       "      <td>[I had this HP Personal Media Drive for over a...</td>\n",
       "      <td>[It slides right in, Works Great, completed sy...</td>\n",
       "      <td>04-27-2010</td>\n",
       "    </tr>\n",
       "    <tr>\n",
       "      <th>496</th>\n",
       "      <td>B001H2ZHJ4</td>\n",
       "      <td>[Most of this movie centers around a kid being...</td>\n",
       "      <td>[Could of been better, cheesy. I had hard time...</td>\n",
       "      <td>02-07-2014</td>\n",
       "    </tr>\n",
       "    <tr>\n",
       "      <th>497</th>\n",
       "      <td>B00120LPOW</td>\n",
       "      <td>[I am happy with my recent purchase of wwe: tw...</td>\n",
       "      <td>[wwe: twist of fate-the matt and jeff hardy st...</td>\n",
       "      <td>03-07-2014</td>\n",
       "    </tr>\n",
       "    <tr>\n",
       "      <th>498</th>\n",
       "      <td>B0071LEMQ4</td>\n",
       "      <td>[TL:DR version first off:Pros: the narrator is...</td>\n",
       "      <td>[bland, boring and short, Excellent a must own...</td>\n",
       "      <td>03-15-2014</td>\n",
       "    </tr>\n",
       "    <tr>\n",
       "      <th>499</th>\n",
       "      <td>B005G4928Q</td>\n",
       "      <td>[this is a truly fabulous true story of WW2 ab...</td>\n",
       "      <td>[First light DVD, More please - finish the sto...</td>\n",
       "      <td>05-27-2014</td>\n",
       "    </tr>\n",
       "  </tbody>\n",
       "</table>\n",
       "<p>500 rows × 4 columns</p>\n",
       "</div>"
      ],
      "text/plain": [
       "            PID                                     product_review  \\\n",
       "0    B006T0R1WU  [if you are someone like me who has ingested j...   \n",
       "1    B001Y44EBW  [Cherry Blossoms (2008) film by Doris Dorrie i...   \n",
       "2    B003VADRZ6  [I only gave it 4 stars..ONLY because I don't ...   \n",
       "3    B000SMZ9E2  [I bought this product a while back and it wor...   \n",
       "4    B0009W7OJO  [This ram brought my old Dell Dimension 2400 u...   \n",
       "..          ...                                                ...   \n",
       "495  B000UD6E48  [I had this HP Personal Media Drive for over a...   \n",
       "496  B001H2ZHJ4  [Most of this movie centers around a kid being...   \n",
       "497  B00120LPOW  [I am happy with my recent purchase of wwe: tw...   \n",
       "498  B0071LEMQ4  [TL:DR version first off:Pros: the narrator is...   \n",
       "499  B005G4928Q  [this is a truly fabulous true story of WW2 ab...   \n",
       "\n",
       "                                        review_summary latest_review_date  \n",
       "0    [depends how much swedish film, tv, crime nove...         07-01-2014  \n",
       "1    [Beautiful, moving, emotional and endearing!, ...         01-08-2014  \n",
       "2    [Just like the old FIRMS..with a kick!, Target...         07-11-2014  \n",
       "3    [works fine, what I needed, Works with Canon H...         12-02-2013  \n",
       "4    [WHAT A BOOST!!, Did Not Get What I Ordered Bu...         02-04-2014  \n",
       "..                                                 ...                ...  \n",
       "495  [It slides right in, Works Great, completed sy...         04-27-2010  \n",
       "496  [Could of been better, cheesy. I had hard time...         02-07-2014  \n",
       "497  [wwe: twist of fate-the matt and jeff hardy st...         03-07-2014  \n",
       "498  [bland, boring and short, Excellent a must own...         03-15-2014  \n",
       "499  [First light DVD, More please - finish the sto...         05-27-2014  \n",
       "\n",
       "[500 rows x 4 columns]"
      ]
     },
     "execution_count": 58,
     "metadata": {},
     "output_type": "execute_result"
    }
   ],
   "source": [
    "df_output"
   ]
  },
  {
   "cell_type": "markdown",
   "metadata": {},
   "source": [
    "We can see that the latest_review_date still need to change it format to consist with the sample output. Therefore, using .apply function to transfer the latest review date format to 'dd/mm/yyyy'."
   ]
  },
  {
   "cell_type": "code",
   "execution_count": 59,
   "metadata": {},
   "outputs": [],
   "source": [
    "df_output['latest_review_date'] = df_output['latest_review_date'].apply(lambda x:x[3:5]+'/'+ x[:2]+'/'+x[-4:])"
   ]
  },
  {
   "cell_type": "code",
   "execution_count": 60,
   "metadata": {},
   "outputs": [
    {
     "data": {
      "text/html": [
       "<div>\n",
       "<style scoped>\n",
       "    .dataframe tbody tr th:only-of-type {\n",
       "        vertical-align: middle;\n",
       "    }\n",
       "\n",
       "    .dataframe tbody tr th {\n",
       "        vertical-align: top;\n",
       "    }\n",
       "\n",
       "    .dataframe thead th {\n",
       "        text-align: right;\n",
       "    }\n",
       "</style>\n",
       "<table border=\"1\" class=\"dataframe\">\n",
       "  <thead>\n",
       "    <tr style=\"text-align: right;\">\n",
       "      <th></th>\n",
       "      <th>PID</th>\n",
       "      <th>product_review</th>\n",
       "      <th>review_summary</th>\n",
       "      <th>latest_review_date</th>\n",
       "    </tr>\n",
       "  </thead>\n",
       "  <tbody>\n",
       "    <tr>\n",
       "      <th>0</th>\n",
       "      <td>B006T0R1WU</td>\n",
       "      <td>[if you are someone like me who has ingested j...</td>\n",
       "      <td>[depends how much swedish film, tv, crime nove...</td>\n",
       "      <td>01/07/2014</td>\n",
       "    </tr>\n",
       "    <tr>\n",
       "      <th>1</th>\n",
       "      <td>B001Y44EBW</td>\n",
       "      <td>[Cherry Blossoms (2008) film by Doris Dorrie i...</td>\n",
       "      <td>[Beautiful, moving, emotional and endearing!, ...</td>\n",
       "      <td>08/01/2014</td>\n",
       "    </tr>\n",
       "    <tr>\n",
       "      <th>2</th>\n",
       "      <td>B003VADRZ6</td>\n",
       "      <td>[I only gave it 4 stars..ONLY because I don't ...</td>\n",
       "      <td>[Just like the old FIRMS..with a kick!, Target...</td>\n",
       "      <td>11/07/2014</td>\n",
       "    </tr>\n",
       "    <tr>\n",
       "      <th>3</th>\n",
       "      <td>B000SMZ9E2</td>\n",
       "      <td>[I bought this product a while back and it wor...</td>\n",
       "      <td>[works fine, what I needed, Works with Canon H...</td>\n",
       "      <td>02/12/2013</td>\n",
       "    </tr>\n",
       "    <tr>\n",
       "      <th>4</th>\n",
       "      <td>B0009W7OJO</td>\n",
       "      <td>[This ram brought my old Dell Dimension 2400 u...</td>\n",
       "      <td>[WHAT A BOOST!!, Did Not Get What I Ordered Bu...</td>\n",
       "      <td>04/02/2014</td>\n",
       "    </tr>\n",
       "    <tr>\n",
       "      <th>...</th>\n",
       "      <td>...</td>\n",
       "      <td>...</td>\n",
       "      <td>...</td>\n",
       "      <td>...</td>\n",
       "    </tr>\n",
       "    <tr>\n",
       "      <th>495</th>\n",
       "      <td>B000UD6E48</td>\n",
       "      <td>[I had this HP Personal Media Drive for over a...</td>\n",
       "      <td>[It slides right in, Works Great, completed sy...</td>\n",
       "      <td>27/04/2010</td>\n",
       "    </tr>\n",
       "    <tr>\n",
       "      <th>496</th>\n",
       "      <td>B001H2ZHJ4</td>\n",
       "      <td>[Most of this movie centers around a kid being...</td>\n",
       "      <td>[Could of been better, cheesy. I had hard time...</td>\n",
       "      <td>07/02/2014</td>\n",
       "    </tr>\n",
       "    <tr>\n",
       "      <th>497</th>\n",
       "      <td>B00120LPOW</td>\n",
       "      <td>[I am happy with my recent purchase of wwe: tw...</td>\n",
       "      <td>[wwe: twist of fate-the matt and jeff hardy st...</td>\n",
       "      <td>07/03/2014</td>\n",
       "    </tr>\n",
       "    <tr>\n",
       "      <th>498</th>\n",
       "      <td>B0071LEMQ4</td>\n",
       "      <td>[TL:DR version first off:Pros: the narrator is...</td>\n",
       "      <td>[bland, boring and short, Excellent a must own...</td>\n",
       "      <td>15/03/2014</td>\n",
       "    </tr>\n",
       "    <tr>\n",
       "      <th>499</th>\n",
       "      <td>B005G4928Q</td>\n",
       "      <td>[this is a truly fabulous true story of WW2 ab...</td>\n",
       "      <td>[First light DVD, More please - finish the sto...</td>\n",
       "      <td>27/05/2014</td>\n",
       "    </tr>\n",
       "  </tbody>\n",
       "</table>\n",
       "<p>500 rows × 4 columns</p>\n",
       "</div>"
      ],
      "text/plain": [
       "            PID                                     product_review  \\\n",
       "0    B006T0R1WU  [if you are someone like me who has ingested j...   \n",
       "1    B001Y44EBW  [Cherry Blossoms (2008) film by Doris Dorrie i...   \n",
       "2    B003VADRZ6  [I only gave it 4 stars..ONLY because I don't ...   \n",
       "3    B000SMZ9E2  [I bought this product a while back and it wor...   \n",
       "4    B0009W7OJO  [This ram brought my old Dell Dimension 2400 u...   \n",
       "..          ...                                                ...   \n",
       "495  B000UD6E48  [I had this HP Personal Media Drive for over a...   \n",
       "496  B001H2ZHJ4  [Most of this movie centers around a kid being...   \n",
       "497  B00120LPOW  [I am happy with my recent purchase of wwe: tw...   \n",
       "498  B0071LEMQ4  [TL:DR version first off:Pros: the narrator is...   \n",
       "499  B005G4928Q  [this is a truly fabulous true story of WW2 ab...   \n",
       "\n",
       "                                        review_summary latest_review_date  \n",
       "0    [depends how much swedish film, tv, crime nove...         01/07/2014  \n",
       "1    [Beautiful, moving, emotional and endearing!, ...         08/01/2014  \n",
       "2    [Just like the old FIRMS..with a kick!, Target...         11/07/2014  \n",
       "3    [works fine, what I needed, Works with Canon H...         02/12/2013  \n",
       "4    [WHAT A BOOST!!, Did Not Get What I Ordered Bu...         04/02/2014  \n",
       "..                                                 ...                ...  \n",
       "495  [It slides right in, Works Great, completed sy...         27/04/2010  \n",
       "496  [Could of been better, cheesy. I had hard time...         07/02/2014  \n",
       "497  [wwe: twist of fate-the matt and jeff hardy st...         07/03/2014  \n",
       "498  [bland, boring and short, Excellent a must own...         15/03/2014  \n",
       "499  [First light DVD, More please - finish the sto...         27/05/2014  \n",
       "\n",
       "[500 rows x 4 columns]"
      ]
     },
     "execution_count": 60,
     "metadata": {},
     "output_type": "execute_result"
    }
   ],
   "source": [
    "df_output"
   ]
  },
  {
   "cell_type": "markdown",
   "metadata": {},
   "source": [
    "The data frame now seems same with the sample output format."
   ]
  },
  {
   "cell_type": "markdown",
   "metadata": {
    "id": "7g9k9Fb8iqLB"
   },
   "source": [
    "-------------------------------------"
   ]
  },
  {
   "cell_type": "markdown",
   "metadata": {
    "collapsed": true,
    "id": "KVwmp1LfiqLE"
   },
   "source": [
    "<div class=\"alert alert-block alert-warning\"> \n",
    "\n",
    "## 5.  Writing to an CSV File <a class=\"anchor\" name=\"write\"></a>\n",
    "\n",
    "</div>"
   ]
  },
  {
   "cell_type": "markdown",
   "metadata": {
    "id": "tFHcHFPGiqLE"
   },
   "source": [
    "In this section, we will use pandas to write our extracted result to the csv file. Since there is no index in the sample output csv file, so set the index = 0. "
   ]
  },
  {
   "cell_type": "code",
   "execution_count": 61,
   "metadata": {},
   "outputs": [],
   "source": [
    "df_output.to_csv('32281943.csv',index = 0)"
   ]
  },
  {
   "cell_type": "markdown",
   "metadata": {
    "id": "i0WT10TJiqLE"
   },
   "source": [
    "-------------------------------------"
   ]
  },
  {
   "cell_type": "markdown",
   "metadata": {
    "collapsed": true,
    "id": "3XcaJBATiqLE"
   },
   "source": [
    "<div class=\"alert alert-block alert-info\">\n",
    "    \n",
    "### 5.1. Verification of the Generated CSV File <a class=\"anchor\" name=\"test_xml\"></a>"
   ]
  },
  {
   "cell_type": "code",
   "execution_count": 63,
   "metadata": {
    "id": "jEg_xQdXiqLF"
   },
   "outputs": [
    {
     "data": {
      "text/html": [
       "<div>\n",
       "<style scoped>\n",
       "    .dataframe tbody tr th:only-of-type {\n",
       "        vertical-align: middle;\n",
       "    }\n",
       "\n",
       "    .dataframe tbody tr th {\n",
       "        vertical-align: top;\n",
       "    }\n",
       "\n",
       "    .dataframe thead th {\n",
       "        text-align: right;\n",
       "    }\n",
       "</style>\n",
       "<table border=\"1\" class=\"dataframe\">\n",
       "  <thead>\n",
       "    <tr style=\"text-align: right;\">\n",
       "      <th></th>\n",
       "      <th>PID</th>\n",
       "      <th>product_review</th>\n",
       "      <th>review_summary</th>\n",
       "      <th>latest_review_date</th>\n",
       "    </tr>\n",
       "  </thead>\n",
       "  <tbody>\n",
       "    <tr>\n",
       "      <th>0</th>\n",
       "      <td>B006T0R1WU</td>\n",
       "      <td>[\"if you are someone like me who has ingested ...</td>\n",
       "      <td>[\"depends how much swedish film, tv, crime nov...</td>\n",
       "      <td>01/07/2014</td>\n",
       "    </tr>\n",
       "    <tr>\n",
       "      <th>1</th>\n",
       "      <td>B001Y44EBW</td>\n",
       "      <td>[\"Cherry Blossoms (2008) film by Doris Dorrie ...</td>\n",
       "      <td>['Beautiful, moving, emotional and endearing!'...</td>\n",
       "      <td>08/01/2014</td>\n",
       "    </tr>\n",
       "    <tr>\n",
       "      <th>2</th>\n",
       "      <td>B003VADRZ6</td>\n",
       "      <td>['I only gave it 4 stars..ONLY because I don\\'...</td>\n",
       "      <td>['Just like the old FIRMS..with a kick!', 'Tar...</td>\n",
       "      <td>11/07/2014</td>\n",
       "    </tr>\n",
       "    <tr>\n",
       "      <th>3</th>\n",
       "      <td>B000SMZ9E2</td>\n",
       "      <td>['I bought this product a while back and it wo...</td>\n",
       "      <td>['works fine', 'what I needed', 'Works with Ca...</td>\n",
       "      <td>02/12/2013</td>\n",
       "    </tr>\n",
       "    <tr>\n",
       "      <th>4</th>\n",
       "      <td>B0009W7OJO</td>\n",
       "      <td>['This ram brought my old Dell Dimension 2400 ...</td>\n",
       "      <td>['WHAT A BOOST!!', 'Did Not Get What I Ordered...</td>\n",
       "      <td>04/02/2014</td>\n",
       "    </tr>\n",
       "    <tr>\n",
       "      <th>...</th>\n",
       "      <td>...</td>\n",
       "      <td>...</td>\n",
       "      <td>...</td>\n",
       "      <td>...</td>\n",
       "    </tr>\n",
       "    <tr>\n",
       "      <th>495</th>\n",
       "      <td>B000UD6E48</td>\n",
       "      <td>[\"I had this HP Personal Media Drive for over ...</td>\n",
       "      <td>['It slides right in', 'Works Great', 'complet...</td>\n",
       "      <td>27/04/2010</td>\n",
       "    </tr>\n",
       "    <tr>\n",
       "      <th>496</th>\n",
       "      <td>B001H2ZHJ4</td>\n",
       "      <td>['Most of this movie centers around a kid bein...</td>\n",
       "      <td>['Could of been better', 'cheesy. I had hard t...</td>\n",
       "      <td>07/02/2014</td>\n",
       "    </tr>\n",
       "    <tr>\n",
       "      <th>497</th>\n",
       "      <td>B00120LPOW</td>\n",
       "      <td>['I am happy with my recent purchase of wwe: t...</td>\n",
       "      <td>['wwe: twist of fate-the matt and jeff hardy s...</td>\n",
       "      <td>07/03/2014</td>\n",
       "    </tr>\n",
       "    <tr>\n",
       "      <th>498</th>\n",
       "      <td>B0071LEMQ4</td>\n",
       "      <td>['TL:DR version first off:Pros: the narrator i...</td>\n",
       "      <td>['bland, boring and short', 'Excellent a must ...</td>\n",
       "      <td>15/03/2014</td>\n",
       "    </tr>\n",
       "    <tr>\n",
       "      <th>499</th>\n",
       "      <td>B005G4928Q</td>\n",
       "      <td>['this is a truly fabulous true story of WW2 a...</td>\n",
       "      <td>['First light DVD', 'More please - finish the ...</td>\n",
       "      <td>27/05/2014</td>\n",
       "    </tr>\n",
       "  </tbody>\n",
       "</table>\n",
       "<p>500 rows × 4 columns</p>\n",
       "</div>"
      ],
      "text/plain": [
       "            PID                                     product_review  \\\n",
       "0    B006T0R1WU  [\"if you are someone like me who has ingested ...   \n",
       "1    B001Y44EBW  [\"Cherry Blossoms (2008) film by Doris Dorrie ...   \n",
       "2    B003VADRZ6  ['I only gave it 4 stars..ONLY because I don\\'...   \n",
       "3    B000SMZ9E2  ['I bought this product a while back and it wo...   \n",
       "4    B0009W7OJO  ['This ram brought my old Dell Dimension 2400 ...   \n",
       "..          ...                                                ...   \n",
       "495  B000UD6E48  [\"I had this HP Personal Media Drive for over ...   \n",
       "496  B001H2ZHJ4  ['Most of this movie centers around a kid bein...   \n",
       "497  B00120LPOW  ['I am happy with my recent purchase of wwe: t...   \n",
       "498  B0071LEMQ4  ['TL:DR version first off:Pros: the narrator i...   \n",
       "499  B005G4928Q  ['this is a truly fabulous true story of WW2 a...   \n",
       "\n",
       "                                        review_summary latest_review_date  \n",
       "0    [\"depends how much swedish film, tv, crime nov...         01/07/2014  \n",
       "1    ['Beautiful, moving, emotional and endearing!'...         08/01/2014  \n",
       "2    ['Just like the old FIRMS..with a kick!', 'Tar...         11/07/2014  \n",
       "3    ['works fine', 'what I needed', 'Works with Ca...         02/12/2013  \n",
       "4    ['WHAT A BOOST!!', 'Did Not Get What I Ordered...         04/02/2014  \n",
       "..                                                 ...                ...  \n",
       "495  ['It slides right in', 'Works Great', 'complet...         27/04/2010  \n",
       "496  ['Could of been better', 'cheesy. I had hard t...         07/02/2014  \n",
       "497  ['wwe: twist of fate-the matt and jeff hardy s...         07/03/2014  \n",
       "498  ['bland, boring and short', 'Excellent a must ...         15/03/2014  \n",
       "499  ['First light DVD', 'More please - finish the ...         27/05/2014  \n",
       "\n",
       "[500 rows x 4 columns]"
      ]
     },
     "execution_count": 63,
     "metadata": {},
     "output_type": "execute_result"
    }
   ],
   "source": [
    "Verification_csv = pd.read_csv('32281943.csv')\n",
    "Verification_csv"
   ]
  },
  {
   "cell_type": "code",
   "execution_count": 64,
   "metadata": {},
   "outputs": [
    {
     "data": {
      "text/html": [
       "<div>\n",
       "<style scoped>\n",
       "    .dataframe tbody tr th:only-of-type {\n",
       "        vertical-align: middle;\n",
       "    }\n",
       "\n",
       "    .dataframe tbody tr th {\n",
       "        vertical-align: top;\n",
       "    }\n",
       "\n",
       "    .dataframe thead th {\n",
       "        text-align: right;\n",
       "    }\n",
       "</style>\n",
       "<table border=\"1\" class=\"dataframe\">\n",
       "  <thead>\n",
       "    <tr style=\"text-align: right;\">\n",
       "      <th></th>\n",
       "      <th>PID</th>\n",
       "      <th>product_review</th>\n",
       "      <th>review_summary</th>\n",
       "      <th>latest_review_date</th>\n",
       "    </tr>\n",
       "  </thead>\n",
       "  <tbody>\n",
       "    <tr>\n",
       "      <th>count</th>\n",
       "      <td>500</td>\n",
       "      <td>500</td>\n",
       "      <td>500</td>\n",
       "      <td>500</td>\n",
       "    </tr>\n",
       "    <tr>\n",
       "      <th>unique</th>\n",
       "      <td>500</td>\n",
       "      <td>500</td>\n",
       "      <td>500</td>\n",
       "      <td>272</td>\n",
       "    </tr>\n",
       "    <tr>\n",
       "      <th>top</th>\n",
       "      <td>B006T0R1WU</td>\n",
       "      <td>[\"if you are someone like me who has ingested ...</td>\n",
       "      <td>[\"depends how much swedish film, tv, crime nov...</td>\n",
       "      <td>12/07/2014</td>\n",
       "    </tr>\n",
       "    <tr>\n",
       "      <th>freq</th>\n",
       "      <td>1</td>\n",
       "      <td>1</td>\n",
       "      <td>1</td>\n",
       "      <td>9</td>\n",
       "    </tr>\n",
       "  </tbody>\n",
       "</table>\n",
       "</div>"
      ],
      "text/plain": [
       "               PID                                     product_review  \\\n",
       "count          500                                                500   \n",
       "unique         500                                                500   \n",
       "top     B006T0R1WU  [\"if you are someone like me who has ingested ...   \n",
       "freq             1                                                  1   \n",
       "\n",
       "                                           review_summary latest_review_date  \n",
       "count                                                 500                500  \n",
       "unique                                                500                272  \n",
       "top     [\"depends how much swedish film, tv, crime nov...         12/07/2014  \n",
       "freq                                                    1                  9  "
      ]
     },
     "execution_count": 64,
     "metadata": {},
     "output_type": "execute_result"
    }
   ],
   "source": [
    "Verification_csv.describe()"
   ]
  },
  {
   "cell_type": "markdown",
   "metadata": {},
   "source": [
    "The output result is consist with the requirement. "
   ]
  },
  {
   "cell_type": "markdown",
   "metadata": {
    "id": "20RDw_JDiqLF"
   },
   "source": [
    "-------------------------------------"
   ]
  },
  {
   "cell_type": "markdown",
   "metadata": {
    "id": "cO8vwKqkiqLF"
   },
   "source": [
    "<div class=\"alert alert-block alert-warning\"> \n",
    "\n",
    "## 6. Summary <a class=\"anchor\" name=\"summary\"></a>\n",
    "\n",
    "</div>"
   ]
  },
  {
   "cell_type": "markdown",
   "metadata": {
    "id": "4QdX7ozQiqLF"
   },
   "source": [
    "This task is mainly use the regex and pandas to extract data and write data to the csv file. "
   ]
  },
  {
   "cell_type": "markdown",
   "metadata": {
    "id": "TnASfTmniqLF"
   },
   "source": [
    "-------------------------------------"
   ]
  },
  {
   "cell_type": "markdown",
   "metadata": {
    "id": "Li7bchX9iqLF"
   },
   "source": [
    "<div class=\"alert alert-block alert-warning\"> \n",
    "\n",
    "## 7. References <a class=\"anchor\" name=\"Ref\"></a>\n",
    "\n",
    "</div>"
   ]
  },
  {
   "cell_type": "markdown",
   "metadata": {
    "id": "TkWuWC3NiqLF"
   },
   "source": [
    "\n",
    "\n",
    "[1]<a class=\"anchor\" name=\"ref-2\"></a>Python Documentation re — Regular expression operations, https://docs.python.org/3/library/re.html?highlight=re#module-re ,Accessed 02/09/2022.\n",
    "\n",
    "[1]<a class=\"anchor\" name=\"ref-2\"></a>Pandas Documentation Version1.4.4,https://pandas.pydata.org/docs/, Accessed 02/09/2022.\n",
    "\n"
   ]
  },
  {
   "cell_type": "markdown",
   "metadata": {
    "id": "dVyuz4LciqLG"
   },
   "source": [
    "## --------------------------------------------------------------------------------------------------------------------------"
   ]
  }
 ],
 "metadata": {
  "colab": {
   "name": "task1_xxxxxxx.ipynb",
   "provenance": []
  },
  "kernelspec": {
   "display_name": "Python 3 (ipykernel)",
   "language": "python",
   "name": "python3"
  },
  "language_info": {
   "codemirror_mode": {
    "name": "ipython",
    "version": 3
   },
   "file_extension": ".py",
   "mimetype": "text/x-python",
   "name": "python",
   "nbconvert_exporter": "python",
   "pygments_lexer": "ipython3",
   "version": "3.9.7"
  }
 },
 "nbformat": 4,
 "nbformat_minor": 1
}
